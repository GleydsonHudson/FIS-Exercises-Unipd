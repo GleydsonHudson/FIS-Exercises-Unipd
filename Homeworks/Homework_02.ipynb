{
 "cells": [
  {
   "cell_type": "markdown",
   "metadata": {},
   "source": [
    "# Homework 02\n",
    "\n",
    "### Instructions:\n",
    "If you are able to see this successfully, it means you have downloaded this notebook file (<code>**Homework_02.ipynb**</code>) on your local machine, started up your Jupyter Notebook server, and opened the notebook file from the running server.<br />\n",
    "\n",
    "In the following, you will be prompted with a sequence of coding exercises.\n",
    "Each (code) cell contains a single exercise; <u>unless otherwise specified</u>, each exercise is **self-contained**, i.e., there is no dependency with any other exercise contained in the above cells. In other words, you don't need to solve exercises in any particular order and/or execute the notebook's cells in the same order as they appear.<br />\n",
    "\n",
    "A typical code solution cell contains the skeleton of a function; the function has a signature (name and input arguments) which has already been defined (**PLEASE DO NOT CHANGE IT!**). You are asked to implement the function according to the decription provided above. To do so, you must replace the <code>**# YOUR CODE HERE**</code> with your own code. <br />\n",
    "\n",
    "Once you have done it and you are confident that your solution works as you expect, just run the corresponding test code cell right below the specific solution code cell.\n",
    "<br />\n",
    "\n",
    "Please, remember that to execute a cell you need to do the following:\n",
    "-  Be sure the cell is selected (you can verify this by looking at the cell border: if this is green the cell is selected);\n",
    "-  Go to the *Main Menu* bar, click on *Cell --> Run Cells*. Alternatively, you can use a keyboard shortcut (e.g., <code>**Ctrl + Enter**</code>).\n",
    "\n",
    "Finally, I **strongly** recommend you not to delete nor modify this notebook in any of its parts. As this is not a read-only file, anyone could make changes to it. Should you do it by mistake, just download this notebook file again from our [Moodle web page](https://elearning.unipd.it/math/course/view.php?id=321)."
   ]
  },
  {
   "cell_type": "markdown",
   "metadata": {},
   "source": [
    "## Exercise 1\n",
    "\n",
    "Consider the skeleton of the function below called <code>**mix_up_chars**</code>, which takes as input two strings <code>**a**</code> and <code>**b**</code>, and returns a **new** string which results from the concatenation of <code>**a**</code> and <code>**b**</code> with a whitespace, where their first **two** characters of <code>**a**</code> and <code>**b**</code> are swapped.<br />\n",
    "For example:<br />\n",
    "<code>**mix_up_chars(\"swap\", \"this\") = \"thap swis\"**</code>\n",
    "\n",
    "(__REQUIREMENT__: *Use sequence slicing *<code>**s[i:j]**</code>* and concatenation *'<code>**+**</code>'* to manipulate the input strings...*)"
   ]
  },
  {
   "cell_type": "markdown",
   "metadata": {},
   "source": [
    "## Solution 1"
   ]
  },
  {
   "cell_type": "code",
   "execution_count": null,
   "metadata": {
    "collapsed": true,
    "jupyter": {
     "outputs_hidden": true
    }
   },
   "outputs": [],
   "source": [
    "def mix_up_chars(a, b):\n",
    "    \"\"\" \n",
    "    Swap the first two characthers of a and b, and concatenate them using whitespace.\n",
    "    \"\"\"\n",
    "    # YOUR CODE HERE"
   ]
  },
  {
   "cell_type": "markdown",
   "metadata": {},
   "source": [
    "## Test 1"
   ]
  },
  {
   "cell_type": "code",
   "execution_count": null,
   "metadata": {
    "collapsed": true,
    "jupyter": {
     "outputs_hidden": true
    }
   },
   "outputs": [],
   "source": [
    "\"\"\"\n",
    "Please, run this cell to test your solution to Exercise 1 above, by means of some unit tests.\n",
    "Be sure all the unit tests below are passed correctly.\n",
    "\"\"\"\n",
    "assert(mix_up_chars(\"fairy\", \"tale\")) == \"tairy fale\"\n",
    "assert(mix_up_chars(\"x\", \"y\")) == \"y x\"\n",
    "assert(mix_up_chars(\"un\", \"ai\")) == \"ai un\"\n",
    "assert(mix_up_chars(\"I am legend\", \"Lorem ipsum\")) == \"Loam legend I rem ipsum\"\n",
    "assert(mix_up_chars(\"I am legend\", \" Lorem ipsum\")) == \" Lam legend I orem ipsum\""
   ]
  },
  {
   "cell_type": "markdown",
   "metadata": {},
   "source": [
    "## Exercise 2\n",
    "\n",
    "Consider the skeleton of the function below called <code>**from_not_poor_to_good**</code>, which takes as input a string <code>**s**</code>, find the first occurrence of the substring <code>**\"not\"**</code> and <code>**\"poor\"**</code> in it (*case insensitive*), and if <code>**\"poor\"**</code> follows <code>**\"not\"**</code> it will replace the whole substring <code>**\"not...poor\"**</code> with the string <code>**\"good\"**</code> and return this **new** string, otherwise it just returns the original input string as it is.<br />\n",
    "For example: <br />\n",
    "<code>**from_not_poor_to_good(\"The lyrics is not that poor!\") = \"The lyrics is good!\"**</code><br />\n",
    "<code>**from_not_poor_to_good(\"Poor boy! It's not your fault\") = \"Poor boy! It's not your fault\"**</code><br />\n",
    "<code>**from_not_poor_to_good(\"This is poor\") = \"This is poor\"**</code><br />\n",
    "<code>**from_not_poor_to_good(\"This sounds really bad\") = \"This sounds really bad\"**</code>\n",
    "\n",
    "(__SUGGESTIONS__: *Use *<code>**str.lower()**</code>* to lowercase a string; Use *<code>**str.find(\"substr\")**</code>* to get the index of the first character of the first occurrence of *\"<code>**substr**</code>\"* in *<code>**str**</code>* or *-1* if *\"<code>**substr**</code>\"* does not occur in *<code>**str**</code>*. Instead, if you use *<code>**str.index(\"substr\")**</code>* this will raise a *<code>**ValueError**</code>* exception if *\"<code>**substr**</code>\"* does not occur in *<code>**str**</code>*.*)\n",
    "\n",
    "**NOTE**: This problem can be easily solved using **regular expressions** and the Python's built-in <code>**re**</code> module but you are required to use only the tools indicated above."
   ]
  },
  {
   "cell_type": "markdown",
   "metadata": {},
   "source": [
    "## Solution 2"
   ]
  },
  {
   "cell_type": "code",
   "execution_count": null,
   "metadata": {
    "collapsed": true,
    "jupyter": {
     "outputs_hidden": true
    }
   },
   "outputs": [],
   "source": [
    "def from_not_poor_to_good(s):\n",
    "    \"\"\"\n",
    "    Find the first occurrence of the substring \"not\" and \"poor\" in s (case insensitive), \n",
    "    If \"poor\" follows \"not\" it will replace the whole substring \"not...poor\" with the string \"good\" \n",
    "    and return this new string. \n",
    "    In any other cases (i.e., either \"poor\" does not follow \"not\" or one of the two is not in the string)\n",
    "    just return the input string as it is.\n",
    "    \"\"\"\n",
    "    # YOUR CODE HERE"
   ]
  },
  {
   "cell_type": "markdown",
   "metadata": {},
   "source": [
    "## Test 2"
   ]
  },
  {
   "cell_type": "code",
   "execution_count": null,
   "metadata": {
    "collapsed": true,
    "jupyter": {
     "outputs_hidden": true
    }
   },
   "outputs": [],
   "source": [
    "\"\"\"\n",
    "Please, run this cell to test your solution to Exercise 2 above, by means of some unit tests.\n",
    "Be sure all the unit tests below are passed correctly.\n",
    "\"\"\"\n",
    "assert(from_not_poor_to_good(\"The lyrics is not that poor!\") == \"The lyrics is good!\")\n",
    "assert(from_not_poor_to_good(\"The lyrics is NotThatPoor!\") == \"The lyrics is good!\")\n",
    "assert(from_not_poor_to_good(\"Poor boy! It's not your fault\") == \"Poor boy! It's not your fault\")\n",
    "assert(from_not_poor_to_good(\"This is poor\") == \"This is poor\")\n",
    "assert(from_not_poor_to_good(\"This is not good\") == \"This is not good\")\n",
    "assert(from_not_poor_to_good(\"This sounds really bad\") == \"This sounds really bad\")"
   ]
  },
  {
   "cell_type": "markdown",
   "metadata": {},
   "source": [
    "## Exercise 3\n",
    "\n",
    "Consider the skeleton of the function below called <code>**count_vowels**</code>, which takes as input a string <code>**text**</code> and returns the number of (_case insensitive_) vowels in the string.<br />\n",
    "For example:<br />\n",
    "<code>**count_vowels(\"Another one bites the dust\") = 9**</code><br />\n",
    "<code>**count_vowels(\"Bohemian Rhapsody\") = 6**</code><br />\n",
    "<code>**count_vowels(\"FFWD\") = 0**</code>\n",
    "\n",
    "(__SUGGESTIONS__: *Use *<code>**str.lower()**</code>* to lowercase a string. Also, try to organize your data so as to make vowel lookup efficient...*)"
   ]
  },
  {
   "cell_type": "markdown",
   "metadata": {},
   "source": [
    "## Solution 3"
   ]
  },
  {
   "cell_type": "code",
   "execution_count": null,
   "metadata": {
    "collapsed": true,
    "jupyter": {
     "outputs_hidden": true
    }
   },
   "outputs": [],
   "source": [
    "def count_vowels(text):\n",
    "    \"\"\"\n",
    "    Count the number of vowels in input text\n",
    "    \"\"\"\n",
    "    # YOUR CODE HERE"
   ]
  },
  {
   "cell_type": "markdown",
   "metadata": {},
   "source": [
    "## Test 3"
   ]
  },
  {
   "cell_type": "code",
   "execution_count": null,
   "metadata": {
    "collapsed": true,
    "jupyter": {
     "outputs_hidden": true
    }
   },
   "outputs": [],
   "source": [
    "\"\"\"\n",
    "Please, run this cell to test your solution to Exercise 3 above, by means of some unit tests.\n",
    "Be sure all the unit tests below are passed correctly.\n",
    "\"\"\"\n",
    "assert(count_vowels(\"Bohemian Rhapsody\") == 6)\n",
    "assert(count_vowels(\"Another one bites the dust\") == 9)\n",
    "assert(count_vowels(\"FFWD\") == 0)"
   ]
  },
  {
   "cell_type": "markdown",
   "metadata": {},
   "source": [
    "## Exercise 4\n",
    "\n",
    "Consider the skeleton of the function below called <code>**count_odds**</code>, which takes as input a list of integers <code>**numbers**</code> and returns how many **odd** numbers are in the list.<br />\n",
    "For example:<br />\n",
    "<code>**count_odds([11, 6, 5, 5, 10, 8, 7]) = 4**</code><br />\n",
    "<code>**count_odds([42, 16]) = 0**</code>\n",
    "\n",
    "(__SUGGESTION__: *Test if a number is __odd__ using the modulo operator *'<code>**%**</code>'*...*)"
   ]
  },
  {
   "cell_type": "markdown",
   "metadata": {},
   "source": [
    "## Solution 4"
   ]
  },
  {
   "cell_type": "code",
   "execution_count": null,
   "metadata": {
    "collapsed": true,
    "jupyter": {
     "outputs_hidden": true
    }
   },
   "outputs": [],
   "source": [
    "def count_odds(numbers):\n",
    "    \"\"\"\n",
    "    Count the number of odd numbers in input list of integers\n",
    "    \"\"\"\n",
    "    # YOUR CODE HERE"
   ]
  },
  {
   "cell_type": "markdown",
   "metadata": {},
   "source": [
    "## Test 4"
   ]
  },
  {
   "cell_type": "code",
   "execution_count": null,
   "metadata": {
    "collapsed": true,
    "jupyter": {
     "outputs_hidden": true
    }
   },
   "outputs": [],
   "source": [
    "\"\"\"\n",
    "Please, run this cell to test your solution to Exercise 4 above, by means of some unit tests.\n",
    "Be sure all the unit tests below are passed correctly.\n",
    "\"\"\"\n",
    "assert(count_odds([11, 6, 5, 5, 10, 8, 7]) == 4)\n",
    "assert(count_odds([42, 16]) == 0)\n",
    "assert(count_odds([13, 42, 16]) == 1)\n",
    "assert(count_odds([13, 11, 21]) == 3)"
   ]
  },
  {
   "cell_type": "markdown",
   "metadata": {},
   "source": [
    "## Exercise 5\n",
    "\n",
    "Consider the skeleton of the function below called <code>**centered_average**</code>, which takes as input a list of integers <code>**numbers**</code> and returns its \"centered average\". The \"centered average\" is defined as the average of all the values in the list, except the smallest and the largest one. If there are multiple copies of the smallest/largest value, only **one** copy must be ignored before computing the average. If the input list contains less than 3 elements, you should return -1, instead.<br />\n",
    "For example:<br />\n",
    "<code>**centered_average([1, 1, 5, 5, 10, 8, 7]) = 5**</code><br />\n",
    "<code>**centered_average([7, 3]) = -1**</code>"
   ]
  },
  {
   "cell_type": "markdown",
   "metadata": {},
   "source": [
    "## Solution 5"
   ]
  },
  {
   "cell_type": "code",
   "execution_count": null,
   "metadata": {
    "collapsed": true,
    "jupyter": {
     "outputs_hidden": true
    }
   },
   "outputs": [],
   "source": [
    "def centered_average(numbers):\n",
    "    \"\"\"\n",
    "    Return -1 if the input list of integers contains less than 3 elements, otherwise its \"centered average\".\n",
    "    The \"centered average\" is computed by removing the smallest and the largest element from the input list.\n",
    "    If there are duplicates of the smallest/largest element, ONLY one instance is removed.\n",
    "    \"\"\"\n",
    "    # YOUR CODE HERE"
   ]
  },
  {
   "cell_type": "markdown",
   "metadata": {},
   "source": [
    "## Test 5"
   ]
  },
  {
   "cell_type": "code",
   "execution_count": null,
   "metadata": {
    "collapsed": true,
    "jupyter": {
     "outputs_hidden": true
    }
   },
   "outputs": [],
   "source": [
    "\"\"\"\n",
    "Please, run this cell to test your solution to Exercise 5 above, by means of some unit tests.\n",
    "Be sure all the unit tests below are passed correctly.\n",
    "\"\"\"\n",
    "assert(centered_average([1, 2, 3, 4, 100]) == 3.0)\n",
    "assert(centered_average([1, 1, 5, 5, 10, 8, 7]) == 5.2)\n",
    "assert(centered_average([-10, -4, -2, -4, -2, 0]) == -3)\n",
    "assert(centered_average([7, 3]) == -1)\n",
    "assert(centered_average([42]) == -1)\n",
    "assert(centered_average([]) == -1)\n",
    "assert(centered_average([10, -4, 2, 1, -2, 0]) == 0.25)"
   ]
  },
  {
   "cell_type": "markdown",
   "metadata": {},
   "source": [
    "## Exercise 6\n",
    "\n",
    "Consider the dictionary <code>**shopping_cart**</code> as defined in the code cell below.\n",
    "Try to perform the following steps:\n",
    "1.  Add a key to inventory called '<code>**fruit**</code>', and associate to this new key a value which is a list consisting of the following items <code>**'apple'**</code>', <code>**'orange'**</code>, and <code>**'lemon'**</code>\n",
    "2.  Sort the items indexed by the key <code>**'vegetables**'</code>.\n",
    "3.  Remove the item <code>**'coke'**</code> from the items stored under the <code>**'drinks'**</code> key.\n",
    "4.  Double the value stored under the <code>**'budget'**</code> key."
   ]
  },
  {
   "cell_type": "code",
   "execution_count": null,
   "metadata": {
    "collapsed": true,
    "jupyter": {
     "outputs_hidden": true
    }
   },
   "outputs": [],
   "source": [
    "\"\"\"\n",
    "Please, run this cell first in order to initialize the dictionary 'shopping_cart'.\n",
    "\"\"\"\n",
    "shopping_cart = {\n",
    "    'budget' : 40,\n",
    "    'meat' : ['chicken', 'turkey', 'pork', 'beef'],\n",
    "    'vegetables' : ['courgette', 'aubergine', 'spinach', 'broccoli'],\n",
    "    'drinks' : ['beer', 'coke', 'wine', 'sparkling water']\n",
    "}"
   ]
  },
  {
   "cell_type": "markdown",
   "metadata": {},
   "source": [
    "## Solution 6.1"
   ]
  },
  {
   "cell_type": "code",
   "execution_count": null,
   "metadata": {
    "collapsed": true,
    "jupyter": {
     "outputs_hidden": true
    }
   },
   "outputs": [],
   "source": [
    "# YOUR CODE HERE"
   ]
  },
  {
   "cell_type": "markdown",
   "metadata": {},
   "source": [
    "## Test 6.1"
   ]
  },
  {
   "cell_type": "code",
   "execution_count": null,
   "metadata": {
    "collapsed": true,
    "jupyter": {
     "outputs_hidden": true
    }
   },
   "outputs": [],
   "source": [
    "\"\"\"\n",
    "Please, run this cell to test your solution to Exercise 6.1 above, by means of some unit tests.\n",
    "Be sure all the unit tests below are passed correctly.\n",
    "\"\"\"\n",
    "assert(shopping_cart['fruit'] == ['apple', 'orange', 'lemon'])"
   ]
  },
  {
   "cell_type": "markdown",
   "metadata": {},
   "source": [
    "## Solution 6.2"
   ]
  },
  {
   "cell_type": "code",
   "execution_count": null,
   "metadata": {
    "collapsed": true,
    "jupyter": {
     "outputs_hidden": true
    }
   },
   "outputs": [],
   "source": [
    "# YOUR CODE HERE"
   ]
  },
  {
   "cell_type": "markdown",
   "metadata": {},
   "source": [
    "## Test 6.2"
   ]
  },
  {
   "cell_type": "code",
   "execution_count": null,
   "metadata": {
    "collapsed": true,
    "jupyter": {
     "outputs_hidden": true
    }
   },
   "outputs": [],
   "source": [
    "\"\"\"\n",
    "Please, run this cell to test your solution to Exercise 6.2 above, by means of some unit tests.\n",
    "Be sure all the unit tests below are passed correctly.\n",
    "\"\"\"\n",
    "assert(shopping_cart['vegetables'] == ['aubergine', 'broccoli', 'courgette', 'spinach'])"
   ]
  },
  {
   "cell_type": "markdown",
   "metadata": {},
   "source": [
    "## Solution 6.3"
   ]
  },
  {
   "cell_type": "code",
   "execution_count": null,
   "metadata": {
    "collapsed": true,
    "jupyter": {
     "outputs_hidden": true
    }
   },
   "outputs": [],
   "source": [
    "# YOUR CODE HERE"
   ]
  },
  {
   "cell_type": "markdown",
   "metadata": {},
   "source": [
    "## Test 6.3"
   ]
  },
  {
   "cell_type": "code",
   "execution_count": null,
   "metadata": {
    "collapsed": true,
    "jupyter": {
     "outputs_hidden": true
    }
   },
   "outputs": [],
   "source": [
    "\"\"\"\n",
    "Please, run this cell to test your solution to Exercise 6.3 above, by means of some unit tests.\n",
    "Be sure all the unit tests below are passed correctly.\n",
    "\"\"\"\n",
    "assert(shopping_cart['drinks'] == ['beer', 'wine', 'sparkling water'])"
   ]
  },
  {
   "cell_type": "markdown",
   "metadata": {},
   "source": [
    "## Solution 6.4"
   ]
  },
  {
   "cell_type": "code",
   "execution_count": null,
   "metadata": {
    "collapsed": true,
    "jupyter": {
     "outputs_hidden": true
    }
   },
   "outputs": [],
   "source": [
    "# YOUR CODE HERE"
   ]
  },
  {
   "cell_type": "markdown",
   "metadata": {},
   "source": [
    "## Test 6.4"
   ]
  },
  {
   "cell_type": "code",
   "execution_count": null,
   "metadata": {
    "collapsed": true,
    "jupyter": {
     "outputs_hidden": true
    }
   },
   "outputs": [],
   "source": [
    "\"\"\"\n",
    "Please, run this cell to test your solution to Exercise 6.3 above, by means of some unit tests.\n",
    "Be sure all the unit tests below are passed correctly.\n",
    "\"\"\"\n",
    "assert(shopping_cart['budget'] == 80)"
   ]
  },
  {
   "cell_type": "markdown",
   "metadata": {},
   "source": [
    "## Exercise 7\n",
    "\n",
    "Suppose you are given with the two following dictionaries: <code>**stock**</code> and <code>**prices**</code>. The former contains the available quantity of a certain item, whilst the latter indicates the price of **each** item.<br />\n",
    "Implement the function <code>**compute_order_bill**</code> which takes as input the <code>**stock**</code> and <code>**prices**</code> dictionaries along with an <code>**order**</code>. The <code>**order**</code> is a list of tuples, where each tuple contains the name of an item and the ordered quantity. Within an order there might be duplicate elements (e.g., <code>**order = [(\"apple\", 1), (\"apple\", 1)]**</code> or repeated items with different quantity requested (e.g., <code>**order = [(\"apple\", 1), (\"apple\", 2)]**</code>).<br/>\n",
    "The function is supposed to return the total amount of money for the specific order. Note that an item contributes to the total if it is listed in the stock and until the requested quantity of that item is greater than what is left in the stock. Once the quantity of an item reaches the value <code>**0**</code>, the corresponding entry in the <code>**stock**</code> dictionary must be deleted (*conversely, you can assume *<code>**prices**</code>* will keep track of all the prices forever, i.e., even those of deleted items*)."
   ]
  },
  {
   "cell_type": "code",
   "execution_count": null,
   "metadata": {
    "collapsed": true,
    "jupyter": {
     "outputs_hidden": true
    }
   },
   "outputs": [],
   "source": [
    "\"\"\"\n",
    "Please, run this cell first in order to initialize the dictionary 'stock' and 'prices'.\n",
    "\"\"\"\n",
    "def init_dicts():\n",
    "    stock = {\n",
    "        \"banana\": 6,\n",
    "        \"apple\": 2,\n",
    "        \"orange\": 32,\n",
    "        \"pear\": 15,\n",
    "        \"aubergine\": 9,\n",
    "        \"courgette\": 1,\n",
    "        \"onion\": 27\n",
    "    }\n",
    "    prices = {\n",
    "        \"banana\": 0.49,\n",
    "        \"apple\": 0.78,\n",
    "        \"orange\": 0.65,\n",
    "        \"pear\": 1.12,\n",
    "        \"aubergine\": 0.51,\n",
    "        \"courgette\": 0.24,\n",
    "        \"onion\": 0.03,\n",
    "        \"tomato\": 0.18,\n",
    "        \"carrot\": 0.23,\n",
    "        \"lemon\": 0.05\n",
    "    }\n",
    "    \n",
    "    return stock, prices"
   ]
  },
  {
   "cell_type": "markdown",
   "metadata": {},
   "source": [
    "## Solution 7"
   ]
  },
  {
   "cell_type": "code",
   "execution_count": null,
   "metadata": {
    "collapsed": true,
    "jupyter": {
     "outputs_hidden": true
    }
   },
   "outputs": [],
   "source": [
    "def compute_order_bill(stock, prices, order):\n",
    "    \"\"\"\n",
    "    Compute the total amount of the bill corresponding to the order.\n",
    "    Be sure to update the quantity of each available item in the stock. \n",
    "    If an item is exhausted (i.e., its quantity goes to 0) you should also remove it from the stock.\n",
    "    \"\"\"\n",
    "    # YOUR CODE HERE"
   ]
  },
  {
   "cell_type": "markdown",
   "metadata": {},
   "source": [
    "## Test 7"
   ]
  },
  {
   "cell_type": "code",
   "execution_count": null,
   "metadata": {
    "collapsed": true,
    "jupyter": {
     "outputs_hidden": true
    }
   },
   "outputs": [],
   "source": [
    "\"\"\"\n",
    "Please, run this cell to test your solution to Exercise 7 above, by means of some unit tests.\n",
    "Be sure all the unit tests below are passed correctly.\n",
    "\"\"\"\n",
    "stock, prices = init_dicts() # re-initialize dictionaries every time\n",
    "order = [(\"apple\",1)] # test order\n",
    "assert(compute_order_bill(stock, prices, order) == 0.78)\n",
    "assert(stock[\"apple\"] == 1)\n",
    "\n",
    "stock, prices = init_dicts() \n",
    "order = [(\"apple\", 1), (\"apple\", 1)]\n",
    "assert(compute_order_bill(stock, prices, order) == 1.56)\n",
    "assert(\"apple\" not in stock)\n",
    "\n",
    "stock, prices = init_dicts() \n",
    "order = [(\"apple\", 1), (\"mango\", 3), (\"aubergine\", 5)]\n",
    "assert(compute_order_bill(stock, prices, order) == 3.33)\n",
    "assert(stock[\"apple\"] == 1)\n",
    "assert(stock[\"aubergine\"] == 4)\n",
    "\n",
    "stock, prices = init_dicts()\n",
    "epsilon = 0.0001\n",
    "order = [(\"apple\", 1), (\"mango\", 3), (\"banana\", 8), (\"orange\", 10), (\"apple\", 3)]\n",
    "assert(abs(compute_order_bill(stock, prices, order) - 11) < epsilon)\n",
    "assert(\"apple\" not in stock)\n",
    "assert(\"banana\" not in stock)\n",
    "assert(stock[\"orange\"] == 22)"
   ]
  },
  {
   "cell_type": "markdown",
   "metadata": {},
   "source": [
    "## Exercise 8\n",
    "\n",
    "Consider the following object called <code>**documents**</code>, which is a list of strings with each string representing a text document. <br />\n",
    "Implement the function called <code>**create_inverted_index**</code> which takes as input the list <code>**documents**</code> and returns an **inverted index**. An inverted index is a data structure that associates to each word in the collection of documents a so called **posting list**. At least, each posting list associated to a word contains the unique ID of the document where the word appears.<br />\n",
    "For example, suppose <code>**documents = ['This is the first document', 'A second document is this one although it is very short', 'I cannot type too many documents but I guess you now where this is going']**</code>. Then, the inverted index associated with the above list of documents is as follows:<br />\n",
    "<code>**'i'** --> [2]</code><br />\n",
    "<code>**'this'** --> [0, 1, 2]</code><br />\n",
    "<code>**'is'** --> [0, 1, 2]</code><br />\n",
    "<code>**'document'** --> [0, 1]</code><br />\n",
    "<code>**'documents'** --> [2]</code><br />\n",
    "<code>...</code><br />\n",
    "(__REQUIREMENTS__: *We want the index to be **case insensitive** and the document ID to be the position of the document in the original list.*)"
   ]
  },
  {
   "cell_type": "code",
   "execution_count": null,
   "metadata": {
    "collapsed": true,
    "jupyter": {
     "outputs_hidden": true
    }
   },
   "outputs": [],
   "source": [
    "\"\"\"\n",
    "Please, run this cell first in order to initialize the list of text documents.\n",
    "\"\"\"\n",
    "documents = [\"Human machine interface for lab abc computer applications\",\n",
    "             \"A survey of user opinion of computer system response time\",\n",
    "             \"The EPS user interface management system\",\n",
    "             \"System and human system engineering testing of EPS\",\n",
    "             \"Relation of user perceived response time to error measurement\",\n",
    "             \"The generation of random binary unordered trees\",\n",
    "             \"The intersection graph of paths in trees\",\n",
    "             \"Graph minors IV Widths of trees and well quasi ordering\",\n",
    "             \"Graph minors A survey\"]"
   ]
  },
  {
   "cell_type": "markdown",
   "metadata": {},
   "source": [
    "## Solution 8"
   ]
  },
  {
   "cell_type": "code",
   "execution_count": null,
   "metadata": {
    "collapsed": true,
    "jupyter": {
     "outputs_hidden": true
    }
   },
   "outputs": [],
   "source": [
    "def create_inverted_index(documents):\n",
    "    \"\"\"\n",
    "    This function returns the inverted index from the input list of text documents.\n",
    "    At this stage, the inverted index will only contain an entry for each word (case insensitive).\n",
    "    Each word entry, in turn, will contain the list of document ID where the word appears.\n",
    "    \"\"\"\n",
    "    # YOUR CODE HERE"
   ]
  },
  {
   "cell_type": "markdown",
   "metadata": {},
   "source": [
    "## Test 8"
   ]
  },
  {
   "cell_type": "code",
   "execution_count": null,
   "metadata": {
    "collapsed": true,
    "jupyter": {
     "outputs_hidden": true
    }
   },
   "outputs": [],
   "source": [
    "\"\"\"\n",
    "Please, run this cell to test your solution to Exercise 8 above, by means of some unit tests.\n",
    "Be sure all the unit tests below are passed correctly.\n",
    "\"\"\"\n",
    "assert(create_inverted_index(documents)['machine'] == [0])\n",
    "assert(create_inverted_index(documents)['graph'] == [6, 7, 8])\n",
    "assert('unexisting' not in create_inverted_index(documents))"
   ]
  },
  {
   "cell_type": "markdown",
   "metadata": {},
   "source": [
    "## Exercise 9\n",
    "\n",
    "Consider again **Exercise 8** but this time we want to store in the posting list not only the document ID but also the frequency of the word in that document ID.<br />\n",
    "For example, suppose again <code>**documents = ['This is the first document', 'A second document is this one although it is very short', 'I cannot type too many documents but I guess you now where this is going']**</code>. Then, the inverted index associated with the above list of documents should look like the following:<br />\n",
    "<code>**'i'** --> {2: 2}</code><br />\n",
    "<code>**'this'** --> {0: 1, 1: 1, 2: 1}</code><br />\n",
    "<code>**'is'** --> {0: 1, 1: 2, 2: 1}</code><br />\n",
    "<code>**'document'** --> {0: 1, 1: 1}</code><br />\n",
    "<code>**'documents'** --> {2: 1}</code><br />\n",
    "<code>...</code><br />\n",
    "(__SUGGESTION__: *Instead of representing the posting list as a list, use another dictionary whose keys are the document IDs...*)"
   ]
  },
  {
   "cell_type": "code",
   "execution_count": null,
   "metadata": {
    "collapsed": true,
    "jupyter": {
     "outputs_hidden": true
    }
   },
   "outputs": [],
   "source": [
    "def create_inverted_index_and_freq(documents):\n",
    "    \"\"\"\n",
    "    This function returns the inverted index from the input list of text documents.\n",
    "    At this stage, the inverted index will only contain an entry for each word (case insensitive).\n",
    "    Each word entry, in turn, will contain another dictionary whose keys are the document IDs where the word appears,\n",
    "    and values are the frequencies of that word in each document ID.\n",
    "    \"\"\"\n",
    "    # YOUR CODE HERE"
   ]
  },
  {
   "cell_type": "markdown",
   "metadata": {},
   "source": [
    "## Test 9"
   ]
  },
  {
   "cell_type": "code",
   "execution_count": null,
   "metadata": {
    "collapsed": true,
    "jupyter": {
     "outputs_hidden": true
    }
   },
   "outputs": [],
   "source": [
    "\"\"\"\n",
    "Please, run this cell to test your solution to Exercise 9 above, by means of some unit tests.\n",
    "Be sure all the unit tests below are passed correctly.\n",
    "\"\"\"\n",
    "assert(create_inverted_index_and_freq(documents)['human'] == {0: 1, 3: 1})\n",
    "assert(create_inverted_index_and_freq(documents)['system'] == {1: 1, 2: 1, 3: 2})\n",
    "assert('unexisting' not in create_inverted_index_and_freq(documents))"
   ]
  }
 ],
 "metadata": {
  "kernelspec": {
   "display_name": "Python 3",
   "language": "python",
   "name": "python3"
  },
  "language_info": {
   "codemirror_mode": {
    "name": "ipython",
    "version": 3
   },
   "file_extension": ".py",
   "mimetype": "text/x-python",
   "name": "python",
   "nbconvert_exporter": "python",
   "pygments_lexer": "ipython3",
   "version": "3.7.3"
  }
 },
 "nbformat": 4,
 "nbformat_minor": 4
}
