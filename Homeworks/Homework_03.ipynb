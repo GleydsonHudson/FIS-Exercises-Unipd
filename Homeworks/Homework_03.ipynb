{
 "cells": [
  {
   "cell_type": "markdown",
   "metadata": {},
   "source": [
    "# Homework 03\n",
    "\n",
    "### Instructions:\n",
    "If you are able to see this successfully, it means you have downloaded this notebook file (<code>**Homework_03.ipynb**</code>) on your local machine, started up your Jupyter Notebook server, and opened the notebook file from the running server.<br />\n",
    "\n",
    "In the following, you will be prompted with a sequence of coding exercises.\n",
    "Each (code) cell contains a single exercise; <u>unless otherwise specified</u>, each exercise is **self-contained**, i.e., there is no dependency with any other exercise contained in the above cells. In other words, you don't need to solve exercises in any particular order and/or execute the notebook's cells in the same order as they appear.<br />\n",
    "\n",
    "Each exercise is labeled as **Exercise N**, where **N = {1, 2, ...}**. The cell right below the exercise label contains a (natural language) description of what you are expected to do to solve the exercise, along with one or two examples of expected outputs. Possibly, you may be prompted with some suggestions or requirements, which help you answer correctly.<br />\n",
    "Below each code question, there is one (or more) code solution cells which you are asked to fill. More specifically, if **Exercise N** contains just one question then you will see a code cell labeled as **Solution N**. Instead, if the exercise contains more than one question, you will see something like **Solution N.x**, where **x = {1, 2, ...}** (i.e., as many code solution cells as the number of questions).<br /> \n",
    "A typical code solution cell contains the skeleton of a function; the function has a signature (name and input arguments) which has already been defined (**PLEASE DO NOT CHANGE IT!**). You are asked to implement the function according to the decription provided above. To do so, you must replace the <code>**# YOUR CODE HERE**</code> with your own code. <br />\n",
    "Once you have done it and you are confident that your solution works as you expect, just run the corresponding test code cell (labeled as **Test N** or **Test N.x** depending on the number of questions within the same **Exercise N**) right below the specific solution code cell.\n",
    "<br />\n",
    "\n",
    "Please, remember that to execute a cell you need to do the following:\n",
    "-  Be sure the cell is selected (you can verify this by looking at the cell border: if this is green the cell is selected);\n",
    "-  Go to the *Main Menu* bar, click on *Cell --> Run Cells*. Alternatively, you can use a keyboard shortcut (e.g., <code>**Ctrl + Enter**</code>).\n",
    "\n",
    "Finally, I **strongly** recommend you not to delete nor modify this notebook in any of its parts. As this is not a read-only file, anyone could make changes to it. Should you do it by mistake, just download this notebook file again from our [Moodle web page](https://elearning.unipd.it/math/course/view.php?id=321)."
   ]
  },
  {
   "cell_type": "code",
   "execution_count": null,
   "metadata": {
    "collapsed": true,
    "jupyter": {
     "outputs_hidden": true
    }
   },
   "outputs": [],
   "source": [
    "\"\"\"\n",
    "DO NOT DELETE THIS CELL\n",
    "REMEMBER TO RUN THIS BEFORE ANY OF YOUR CODE CELLS BELOW\n",
    "\"\"\"\n",
    "import numpy as np\n",
    "EPSILON = .000001 # tiny tolerance for managing subtle differences resulting from floating point operations"
   ]
  },
  {
   "cell_type": "markdown",
   "metadata": {},
   "source": [
    "## Exercise 1\n",
    "\n",
    "Consider the skeleton of the function below called <code>**create_array**</code>, which takes as input an integer <code>**n**</code> and a tuple <code>**dims**</code>, and returns a numpy array (<code>**ndarray**</code>) containing values in the range <code>**[0,n)**</code> whose shape is equal to <code>**dims**</code>. Note that it must hold that $n = d_1 \\cdot d_2 \\cdot ... \\cdot d_k$ (where $k = |\\textit{dims}|$). Otherwise, the function should return a properly formatted string containing an error message, which explains the reason why the numpy array cannot be created.<br />\n",
    "For example:<br />\n",
    "<code>**create_array(9, (3, 3)) = array([[0, 1, 2], [3, 4, 5], [6, 7, 8]])**</code><br />\n",
    "<code>**create_array(16, (2, 3, 4)) = \"Unable to create an array of 16 elements having (2 x 3 x 4) shape\"**</code><br />\n",
    "\n",
    "(__SUGGESTIONS__: *Use *<code>**np.reshape()**</code>* to reshape the array according to the specified dimensions. You can safely assume *<code>**dims**</code>* to be a tuple, i.e., no need to check its type.*)"
   ]
  },
  {
   "cell_type": "markdown",
   "metadata": {},
   "source": [
    "## Solution 1"
   ]
  },
  {
   "cell_type": "code",
   "execution_count": null,
   "metadata": {
    "collapsed": true,
    "jupyter": {
     "outputs_hidden": true
    }
   },
   "outputs": [],
   "source": [
    "def create_array(n, dims):\n",
    "    \"\"\" \n",
    "    Create, if possible, an ndarray whose elements are in the range [0,n) and whose shape is equal to dims. \n",
    "    Otherwise, return a formatted string containing an error message,\n",
    "    indicating the reason why the array cannot be successfully created.\n",
    "    \"\"\"\n",
    "    # YOUR CODE HERE"
   ]
  },
  {
   "cell_type": "markdown",
   "metadata": {},
   "source": [
    "## Test 1"
   ]
  },
  {
   "cell_type": "code",
   "execution_count": null,
   "metadata": {
    "collapsed": true,
    "jupyter": {
     "outputs_hidden": true
    }
   },
   "outputs": [],
   "source": [
    "\"\"\"\n",
    "Please, run this cell to test your solution to Exercise 1 above, by means of some unit tests.\n",
    "Be sure all the unit tests below are passed correctly.\n",
    "\"\"\"\n",
    "assert(np.array_equal(create_array(1, (1,)), np.array([0])))\n",
    "assert(np.array_equal(create_array(1, (1, 1)), np.array([[0]])))\n",
    "\n",
    "assert(np.array_equal(create_array(7, (1, 7)), np.array([[0, 1, 2, 3, 4, 5, 6]])))\n",
    "assert(create_array(12, (1, 19))== \"Unable to create an array of 12 elements having (1 x 19) shape\")\n",
    "\n",
    "assert(np.array_equal(create_array(4, (4,)), np.array([0, 1, 2, 3])))\n",
    "assert(create_array(42, (41,))== \"Unable to create an array of 42 elements having (41) shape\")\n",
    "\n",
    "assert(create_array(10, (1,)) == \"Unable to create an array of 10 elements having (1) shape\")\n",
    "\n",
    "assert(create_array(5, ()) == \"Unable to create an array of 5 elements having () shape\")\n",
    "assert(create_array(5, (0,)) == \"Unable to create an array of 5 elements having (0) shape\")\n",
    "assert(create_array(5, (0,5)) == \"Unable to create an array of 5 elements having (0 x 5) shape\")\n",
    "assert(create_array(5, (0,10)) == \"Unable to create an array of 5 elements having (0 x 10) shape\")\n",
    "assert(create_array(0, ()) == \"Unable to create an array of 0 elements having () shape\")\n",
    "assert(create_array(0, (0,)) == \"Unable to create an array of 0 elements having (0) shape\")\n",
    "assert(create_array(0, (0,73)) == \"Unable to create an array of 0 elements having (0 x 73) shape\")\n",
    "\n",
    "assert(np.array_equal(create_array(9, (3, 3)), np.array([[0, 1, 2], [3, 4, 5], [6, 7, 8]])))\n",
    "assert(create_array(25, (6, 4)) == \"Unable to create an array of 25 elements having (6 x 4) shape\")\n",
    "\n",
    "assert(np.array_equal(create_array(8, (2, 2, 2)), np.array([[[0, 1], [2, 3]], [[4, 5], [6, 7]]])))\n",
    "assert(create_array(16, (2, 3, 4)) == \"Unable to create an array of 16 elements having (2 x 3 x 4) shape\")\n",
    "\n",
    "assert(create_array(0, (1, 8)) == \"Unable to create an array of 0 elements having (1 x 8) shape\")\n",
    "assert(create_array(-11, (3, 5)) == \"Unable to create an array of -11 elements having (3 x 5) shape\")"
   ]
  },
  {
   "cell_type": "markdown",
   "metadata": {},
   "source": [
    "## Exercise 2\n",
    "\n",
    "Consider the skeleton of the function below called <code>**det_core_matrix**</code>, which takes as input an $n$-by-$n$ bidimensional numpy array (i.e., a quadratic matrix) <code>**X**</code>, where $n \\geq 2,~n \\mod 2 = 0$ (i.e., $n$ is greater than or equal to $2$, and it is **even**). The function should return the determinant of the internal $2$-by-$2$ \"**core matrix**\", or <code>**None**</code> if the above conditions are not met.<br /> The core matrix can be identified as follows. If <code>**X**</code> is already $2$-by-$2$ then it is **also** the core matrix. If, instead, <code>**X**</code> is $4$-by-$4$ then the core matrix will be the $2$-by-$2$ sub-matrix identified by the elements of the second and third rows (i.e., row at index = 1 and row at index = 2) and second and third columns (i.e., column at index = 1, column at index = 2). More generally, if the dimension of the input matrix is $n$, the starting index of the row (column) of the core matrix can be found by computing $(n-2)/2$. For $n = 2$, this turns out to be 0, which is exactly what we expected, for $n = 4$, this is going to be 1 which, again, is what we found above, for $n = 6$, the starting index is 2, and so on and so forth (see the picture below).<br />\n",
    "<center>![](./img/core_matrix.png)</center>\n",
    "Finally, the determinant must be computed analytically (i.e., without using any helper function). Just as a reminder, given the $2$-by-$2$ matrix as below:\n",
    "$$ X =\n",
    "\\begin{bmatrix}\n",
    "    x_{00} & x_{01} \\\\\n",
    "    x_{10} & x_{11}\n",
    "\\end{bmatrix}\n",
    "$$\n",
    "The determinant $det(X) = (x_{00}\\cdot x_{11}) - (x_{10} \\cdot x_{01})$. For example:<br/>\n",
    "<code>**det_core_matrix(np.array([[1, 2], [3, 4]]) = (1 x 4) - (3 x 2) = -2 **</code><br />\n",
    "<code>**det_core_matrix(np.array([[1, 2, 3, 4], [5, 6, 7, 8], [9, 10, 11, 12], [13, 14, 15, 16]]) = (6 x 11) - (7 x 10) = -4 **</code><br />\n",
    "<code>**det_core_matrix(np.array([[1, 2, 3], [4, 5, 6]]) = None **</code>"
   ]
  },
  {
   "cell_type": "markdown",
   "metadata": {},
   "source": [
    "## Solution 2"
   ]
  },
  {
   "cell_type": "code",
   "execution_count": null,
   "metadata": {
    "collapsed": true,
    "jupyter": {
     "outputs_hidden": true
    }
   },
   "outputs": [],
   "source": [
    "def det_core_matrix(X):\n",
    "    \"\"\"\n",
    "    Return the determinant of the \"core matrix\" if the input matrix X is quadratic\n",
    "    and its number of rows (columns) is even, otherwise return None.\n",
    "    \"\"\"\n",
    "    # YOUR CODE HERE"
   ]
  },
  {
   "cell_type": "markdown",
   "metadata": {},
   "source": [
    "## Test 2"
   ]
  },
  {
   "cell_type": "code",
   "execution_count": null,
   "metadata": {
    "collapsed": true,
    "jupyter": {
     "outputs_hidden": true
    }
   },
   "outputs": [],
   "source": [
    "\"\"\"\n",
    "Please, run this cell to test your solution to Exercise 2 above, by means of some unit tests.\n",
    "Be sure all the unit tests below are passed correctly.\n",
    "\"\"\"\n",
    "assert(det_core_matrix(np.array([[1, 2, 3], [4, 5, 6]])) == None)\n",
    "assert(np.abs(det_core_matrix(np.array([[1, 2], [3, 4]])) - np.linalg.det(np.array([[1, 2], [3, 4]]))) < EPSILON)\n",
    "assert(np.abs(det_core_matrix(np.array([[1, 2, 3, 4], [5, 6, 7, 8], [9, 10, 11, 12], [13, 14, 15, 16]])) -\\\n",
    "       np.linalg.det(np.array([[6, 7], [10, 11]]))) < EPSILON)\n",
    "X = np.array([[ 0.44023786,  0.83127201,  0.63944119,  0.69333524,  0.3650256 ,\n",
    "         0.27843133],\n",
    "       [ 0.50953169,  0.52998992,  0.62946758,  0.3675919 ,  0.8418018 ,\n",
    "         0.2680972 ],\n",
    "       [ 0.72636984,  0.60750261,  0.99378191,  0.70026505,  0.96493826,\n",
    "         0.18946902],\n",
    "       [ 0.66880465,  0.55011437,  0.40990365,  0.98575236,  0.48193052,\n",
    "         0.81143302],\n",
    "       [ 0.48492125,  0.37851368,  0.97280827,  0.33088006,  0.50370432,\n",
    "         0.13189437],\n",
    "       [ 0.9273423 ,  0.05007188,  0.60490133,  0.40947619,  0.68521798,\n",
    "         0.71775745]])\n",
    "X_core = np.array([[ 0.99378191,  0.70026505],\n",
    "       [ 0.40990365,  0.98575236]])\n",
    "assert(np.abs(det_core_matrix(X) - np.linalg.det(X_core)) < EPSILON)\n",
    "assert(np.abs(det_core_matrix(np.array([[1, 1], [1, 1]])) - np.linalg.det(np.array([[1, 1], [1, 1]]))) < EPSILON)\n",
    "assert(np.abs(det_core_matrix(np.array([[0, 0], [1, 1]])) - np.linalg.det(np.array([[0, 0], [1, 1]]))) < EPSILON)"
   ]
  },
  {
   "cell_type": "markdown",
   "metadata": {},
   "source": [
    "## Exercise 3\n",
    "\n",
    "Consider the skeleton of the function below called <code>**standardize_matrix**</code>, which takes as input a bidimensional numpy array (i.e., a matrix) <code>**X**</code> and returns a new matrix which is obtained by standardize the matrix passed as input. Standardizing a matrix $X$ means replacing each element $x_{i,j}$ as follows:<br />\n",
    "$$x_{i,j} = \\frac{x_{i,j} - \\mu(X)}{\\sigma(X)}$$\n",
    "where $\\mu(X)$ is the **mean** and $\\sigma(X)$ the **standard deviation**, as computed from **all** the elements of the matrix $X$.<br />\n",
    "If the standard deviation of the input matrix is equal to 0, then just return a matrix of the same shape yet containing all 0s. \n",
    "For example: <br />\n",
    "<code>**standardize_matrix(np.array([[1,2],[3,4]])) = np.array([[-1.34164079, -0.4472136],[0.4472136, 1.34164079]])**</code> [$\\mu(X) = 2.5$; $\\sigma(X) \\approx 1.2$] <br />\n",
    "<code>**standardize_matrix(np.array([[5,5,5], [5,5,5], [5,5,5], [5,5,5]])) = np.array([[0,0,0], [0,0,0], [0,0,0], [0,0,0]])**</code> [$\\mu(X) = 5$; $\\sigma(X) = 0$]<br />\n",
    "\n",
    "(__SUGGESTIONS__: *Try to solve it using the classical 'iterative' approach. Then, think about how you could make your solution more efficient using vectorization. Remember that you can either use numpy's built-in statistical functions, e.g.,*<code>**np.std(ndarray)**</code>*, or the method associated with each numpy array, e.g., *<code>**ndarray.std()**</code>*.*)"
   ]
  },
  {
   "cell_type": "markdown",
   "metadata": {},
   "source": [
    "## Solution 3"
   ]
  },
  {
   "cell_type": "code",
   "execution_count": null,
   "metadata": {
    "collapsed": true,
    "jupyter": {
     "outputs_hidden": true
    }
   },
   "outputs": [],
   "source": [
    "def standardize_matrix(X):\n",
    "    \"\"\"\n",
    "    Standardize the input matrix X using its mean and standard deviation.\n",
    "    If the standard deviation is 0 just return a matrix with the same shape, \n",
    "    yet containing all 0s.\n",
    "    \"\"\"\n",
    "    # YOUR CODE HERE"
   ]
  },
  {
   "cell_type": "markdown",
   "metadata": {},
   "source": [
    "## Test 3"
   ]
  },
  {
   "cell_type": "code",
   "execution_count": null,
   "metadata": {
    "collapsed": true,
    "jupyter": {
     "outputs_hidden": true
    }
   },
   "outputs": [],
   "source": [
    "\"\"\"\n",
    "Please, run this cell to test your solution to Exercise 3 above, by means of some unit tests.\n",
    "Be sure all the unit tests below are passed correctly.\n",
    "\"\"\"\n",
    "assert(np.all(np.abs(standardize_matrix(np.array([[1,2],[3,4]])) - \\\n",
    "      np.array([[-1.34164079, -0.4472136], [0.4472136, 1.34164079]])) < EPSILON))\n",
    "assert(np.all((standardize_matrix(np.array([[5,5,5], [5,5,5], [5,5,5], [5,5,5]])) == \\\n",
    "      np.array([[0,0,0], [0,0,0], [0,0,0], [0,0,0]]))))\n",
    "assert(np.all(np.abs(standardize_matrix(np.array([[ 1.81962596, -0.70078527], \\\n",
    "                                            [ 0.15814445, -1.10416631], \\\n",
    "                                            [-0.7776333 , -1.5993643 ]])) - \\\n",
    "      np.array([[ 1.96937124, -0.30024474], \\\n",
    "                [ 0.47321659, -0.66348708], \\\n",
    "                [-0.36944596, -1.10941005]])) < EPSILON))\n",
    "assert(np.all((standardize_matrix(np.array([0,0,0])) == \\\n",
    "      np.array([0,0,0]))))"
   ]
  },
  {
   "cell_type": "markdown",
   "metadata": {},
   "source": [
    "## Exercise 4\n",
    "\n",
    "Consider the skeleton of the function below called <code>**log_max_min**</code>, which takes as input a bidimensional numpy array (i.e., a matrix) <code>**X**</code> and returns the (natural) logarithm of the array obtained from subtracting the **column-wise** maximum and minimum arrays of the input matrix. Be careful, however, as the logarithm is only defined for any input which is greater than 0; as such, you have to be sure the resulting array does not contain **any** element which is **less than or equal to 0**. Otherwise, the function should return an array of 1s whose number of elements are equal to the number of columns of the input matrix. <br />\n",
    "For example:<br />\n",
    "<code>**log_max_min(np.array([[1,3], [5,2], [4,6]])) = np.array([1.38629436, 1.38629436])**</code><br />\n",
    "<code>**log_max_min(np.array([[1,3,-2], [16,-5,2], [4,6,11], [-42,10,7]])) = np.array([4.06044301, 2.7080502, 2.56494936])**</code><br />\n",
    "<code>**log_max_min(np.array([[0, 0], [0, 0], [0, 0]])) = np.array([1, 1])**</code><br />\n",
    "Remember that the column-wise maximum (minimum) of a matrix is the maximum (minimum) element obtained by fixing each column and considering all the elements of that column (i.e., scanning each row of that column...)\n",
    "\n",
    "(__SUGGESTION__: *You can safely assume the input matrix to be bidimensional. To test if a vector does not contain any 0, you have to keep in mind that boolean tests on numpy arrays return an array of booleans. To check if such a boolean array contains all *<code>**True**</code>* you should use the numpy's built-in function *<code>**np.all()**</code>.)"
   ]
  },
  {
   "cell_type": "markdown",
   "metadata": {},
   "source": [
    "## Solution 4"
   ]
  },
  {
   "cell_type": "code",
   "execution_count": null,
   "metadata": {
    "collapsed": true,
    "jupyter": {
     "outputs_hidden": true
    }
   },
   "outputs": [],
   "source": [
    "def log_max_min(X):\n",
    "    \"\"\"\n",
    "    Return the logarithm of the difference between the column-wise maximum and the minimum arrays,\n",
    "    provided that the logarithm is defined on every element of the resulting array\n",
    "    \"\"\"\n",
    "    # YOUR CODE HERE"
   ]
  },
  {
   "cell_type": "markdown",
   "metadata": {},
   "source": [
    "## Test 4"
   ]
  },
  {
   "cell_type": "code",
   "execution_count": null,
   "metadata": {
    "collapsed": true,
    "jupyter": {
     "outputs_hidden": true
    }
   },
   "outputs": [],
   "source": [
    "\"\"\"\n",
    "Please, run this cell to test your solution to Exercise 4 above, by means of some unit tests.\n",
    "Be sure all the unit tests below are passed correctly.\n",
    "\"\"\"\n",
    "assert(np.all(np.abs(log_max_min(np.array([[1,3], [5,2], [4,6]])) -\\\n",
    "       np.array([1.38629436, 1.38629436])) < EPSILON))\n",
    "assert(np.all(np.abs(log_max_min(np.array([[1,3,-2], [16,-5,2], [4,6,11], [-42,10,7]])) -\\\n",
    "       np.array([4.06044301, 2.7080502, 2.56494936])) < EPSILON))\n",
    "assert(np.all(np.abs(log_max_min(np.array([[0, 0], [0, 0]])) -\\\n",
    "       np.array([[1, 1]])) < EPSILON))\n",
    "assert(np.all(np.abs(log_max_min(np.array([[-1, -2], [-3, -4]])) -\\\n",
    "                     np.array([[0.69314718, 0.69314718]])) < EPSILON))"
   ]
  },
  {
   "cell_type": "markdown",
   "metadata": {},
   "source": [
    "## Exercise 5\n",
    "\n",
    "Consider the skeleton of the function below called <code>**update_matrix**</code>, which takes as input a bidimensional numpy array (i.e., a matrix) <code>**X**</code> and a number <code>**t**</code>. The function returns the same matrix where a row is all set to 0 if **any** of the elements of that row is less than <code>**t**</code>.<br />\n",
    "For example, if your input matrix is as follows:<br />\n",
    "<code>**np.array([[0.28955492, -0.45053239], [-0.25879235, 1.67546741], [0.21191212, 1.42856687]])**</code> and <code>**t**</code> = -0.4, the resulting matrix will be:<br />\n",
    "<code>**np.array([[0., 0.], [-0.25879235, 1.67546741], [0.21191212, 1.42856687]])**</code>, as the first row of the original matrix is the only one containing an element whose value is less than <code>**t**</code> = -0.4.<br />\n",
    "If, for instance, we set <code>**t**</code> = -0.5 then no elements would have been less than such a value, and therefore the matrix will be left as it is.\n",
    "\n",
    "(__SUGGESTION__: *Use boolean indexing to update the values of the original input matrix...*)"
   ]
  },
  {
   "cell_type": "markdown",
   "metadata": {},
   "source": [
    "## Solution 5"
   ]
  },
  {
   "cell_type": "code",
   "execution_count": null,
   "metadata": {
    "collapsed": true,
    "jupyter": {
     "outputs_hidden": true
    }
   },
   "outputs": [],
   "source": [
    "def update_matrix(X, t):\n",
    "    \"\"\"\n",
    "    Set each row of the input matrix to all 0s as long as at least one element of that row is less than t.\n",
    "    \"\"\"\n",
    "    # YOUR CODE HERE"
   ]
  },
  {
   "cell_type": "markdown",
   "metadata": {},
   "source": [
    "## Test 5"
   ]
  },
  {
   "cell_type": "code",
   "execution_count": null,
   "metadata": {
    "collapsed": true,
    "jupyter": {
     "outputs_hidden": true
    }
   },
   "outputs": [],
   "source": [
    "\"\"\"\n",
    "Please, run this cell to test your solution to Exercise 5 above, by means of some unit tests.\n",
    "Be sure all the unit tests below are passed correctly.\n",
    "\"\"\"\n",
    "assert(np.all(update_matrix(np.array([[0.28955492, -0.45053239], [-0.25879235, 1.67546741], [0.21191212, 1.42856687]]),-0.4)[0,:] == np.array([0, 0])))\n",
    "assert(np.all(update_matrix(np.array([[0.28955492, -0.45053239], [-0.25879235, 1.67546741], [0.21191212, 1.42856687]]),-0.5) == np.array([[0.28955492, -0.45053239], [-0.25879235, 1.67546741], [0.21191212, 1.42856687]])))\n",
    "assert(np.all(update_matrix(np.array([[0.28955492, -0.45053239], [-0.25879235, 1.67546741], [0.21191212, 1.42856687]]),-0.2)[:2,:] == np.array([[0, 0],[0, 0]])))"
   ]
  },
  {
   "cell_type": "markdown",
   "metadata": {},
   "source": [
    "## Exercise 6\n",
    "\n",
    "Consider the skeleton of the function below called <code>**find_closest_to_k_in_array**</code>, which takes as input a unidimensional numpy array (i.e., an $m$-by-$1$ vector) <code>**x**</code> and a number <code>**k**</code>, and returns the number which corresponds to the closest value to <code>**k**</code> in <code>**x**</code>. The function should just return <code>**None**</code> if the input array does not contain **at least** 1 element.<br />\n",
    "For example:<br />\n",
    "<code>**find_closest_to_k_in_array(np.array([1.2, 0.8, 0.48, 18.4, -1.9, 5.7]), 3.6) = 5.7**</code>\n",
    "<code>**find_closest_to_k_in_array(np.array([]), 1.3) = None**</code>\n",
    "\n",
    "(__SUGGESTION__: *Try to solve it using the traditional 'iterative' approach. Then, think about how this could be solved using a vectorized approach. Here, two numpy's functions may help you: *<code>**np.abs()**</code>* which compute the absolute value of the input argument, and *<code>**np.argmin()**</code>* which, given an array as input, returns the corresponding array of the index of the minimum element.*)"
   ]
  },
  {
   "cell_type": "markdown",
   "metadata": {},
   "source": [
    "## Solution 6"
   ]
  },
  {
   "cell_type": "code",
   "execution_count": null,
   "metadata": {
    "collapsed": true,
    "jupyter": {
     "outputs_hidden": true
    }
   },
   "outputs": [],
   "source": [
    "def find_closest_to_k_in_array(x, k):\n",
    "    \"\"\"\n",
    "    Return the element of x which is closest to k.\n",
    "    \"\"\"\n",
    "    # YOUR CODE HERE"
   ]
  },
  {
   "cell_type": "markdown",
   "metadata": {},
   "source": [
    "## Test 6"
   ]
  },
  {
   "cell_type": "code",
   "execution_count": null,
   "metadata": {
    "collapsed": true,
    "jupyter": {
     "outputs_hidden": true
    }
   },
   "outputs": [],
   "source": [
    "\"\"\"\n",
    "Please, run this cell to test your solution to Exercise 6 above, by means of some unit tests.\n",
    "Be sure all the unit tests below are passed correctly.\n",
    "\"\"\"\n",
    "assert(find_closest_to_k_in_array(np.array([1.2, 0.8, 0.48, 18.4, -1.9, 5.7]), 3.6) == 5.7)\n",
    "assert(find_closest_to_k_in_array(np.array([15.6]), 9.3) == 15.6)\n",
    "assert(find_closest_to_k_in_array(np.array([]), 9.3) == None)\n",
    "assert(find_closest_to_k_in_array(np.array([-9.1, -0.4, -2.7]), -6.4) == -9.1)"
   ]
  },
  {
   "cell_type": "markdown",
   "metadata": {},
   "source": [
    "## Exercise 7\n",
    "\n",
    "Consider the skeleton of the function below called <code>**find_closest_to_k_in_matrix**</code>, which takes as input a bidimensional numpy array (i.e., an $m$-by-$n$ matrix) <code>**X**</code> and a number <code>**k**</code> and returns an $n$-by-$1$ vector, which for each row of <code>**X**</code> contains the closest value to <code>**k**</code>.<br />\n",
    "Note that this is very similar to **Exercise 5** above. The only thing that changes here is that we are asking to compute the closest value **for each row** of the input matrix.\n",
    "For example:<br />\n",
    "<code>**find_closest_to_k(np.array([[1.2, 0.8, 0.48], [18.4, -1.9, 5.7], [0.49, 0.51, 0.]]), 0.5) = np.array([0.48, -1.9, 0.49])**</code>\n",
    "\n",
    "(__SUGGESTION__: *Although you could theoretically make use of the function *<code>**find_closest_to_k_in_array**</code>* to solve this problem, I again strongly encourage you to try to use the same tools suggested above to come up with a vectorized solution. In addition to that, it might be useful to know that numpy arrays *<code>**X**</code>* can be indexed by a list of tuples as follows: *<code>**X[(i_1, i_2,..., i_k),(j_1, j_2, ..., j_k)]**</code>*, whose meaning is to return an array containing the following elements: *<code>**[X[i_1, j_1], X[i_2, j_2], ..., X[i_k, j_k]]**</code>.)"
   ]
  },
  {
   "cell_type": "markdown",
   "metadata": {},
   "source": [
    "## Solution 7"
   ]
  },
  {
   "cell_type": "code",
   "execution_count": null,
   "metadata": {
    "collapsed": true,
    "jupyter": {
     "outputs_hidden": true
    }
   },
   "outputs": [],
   "source": [
    "def find_closest_to_k_in_matrix(X, k):\n",
    "    \"\"\"\n",
    "    For each row of X, return the element which is closest to k.\n",
    "    \"\"\"\n",
    "    # YOUR CODE HERE"
   ]
  },
  {
   "cell_type": "markdown",
   "metadata": {},
   "source": [
    "## Test 7"
   ]
  },
  {
   "cell_type": "code",
   "execution_count": null,
   "metadata": {
    "collapsed": true,
    "jupyter": {
     "outputs_hidden": true
    }
   },
   "outputs": [],
   "source": [
    "\"\"\"\n",
    "Please, run this cell to test your solution to Exercise 7 above, by means of some unit tests.\n",
    "Be sure all the unit tests below are passed correctly.\n",
    "\"\"\"\n",
    "assert(np.all(np.abs(find_closest_to_k_in_matrix(np.array([[1.2, 0.8, 0.48], [18.4, -1.9, 5.7], [0.49, 0.51, 0.]]), 0.5) -\\\n",
    "              np.array([0.48, -1.9, 0.49])) < EPSILON))\n",
    "assert(np.all(np.abs(find_closest_to_k_in_matrix(np.array([[3.2, 0.8, 0.48], [18.4, -1.9, 5.7]]), 1.1) -\\\n",
    "              np.array([0.8, -1.9])) < EPSILON))\n",
    "assert(np.all(np.abs(find_closest_to_k_in_matrix(np.array([[3.9, 4.6], [4.5, 3.2]]), 4.1) -\\\n",
    "              np.array([3.9, 4.5])) < EPSILON))"
   ]
  },
  {
   "cell_type": "markdown",
   "metadata": {},
   "source": [
    "## Exercise 8\n",
    "\n",
    "Consider the skeleton of the function below called <code>**array_of_distances**</code>, which takes as input a bidimensional numpy array (i.e., an $m$-by-$n$ matrix) <code>**X**</code> and a unidimensional numpy array (i.e., an $m$-by-$1$ vector) <code>**y**</code> and returns an $n$-by-$1$ vector <code>**d**</code>, which is computed as follows:<br />\n",
    "<code>**d[j] = euclidean_distance(X[:,j], y)**</code>, where <code>**X[:,j]**</code> denotes the $j$-th $m$-by-$1$ column vector of the input matrix <code>**X**</code> and <code>**euclidean_distance()**</code> is the Euclidean distance function which is computed as follows:<br />\n",
    "<code>**euclidean_distance(a, b) = sqrt((a_1 - b_1)^2 + (a_2 - b_2)^2 + ... + (a_m - b_m)^2)**</code>.<br />\n",
    "The function should test whether this operation is allowed by checking the shape of the input matrix and array are \"compatible\", otherwise it should return <code>**None**</code>.<br />\n",
    "For example:<br />\n",
    "<code>**array_of_distances(np.array([[0, 1, 2, 3], [4, 5, 6, 7], [8, 9, 10, 11]]), np.array([0, 4, 8])) = np.array([0., 1.73205081, 3.46410162, 5.19615242])**</code><br />\n",
    "<code>**array_of_distances(np.array([[0, 1, 2, 3], [4, 5, 6, 7], [8, 9, 10, 11]]), np.array([0, 4])) = None**</code>\n",
    "\n",
    "(__SUGGESTION__: *Try to solve this using the standard 'iterative' approach. Afterwards, try to use a vectorized solution. In order for the dimensions to be \"compatible\" it must hold that the number of rows of the input matrix equals to the number of elements of the input array. Moreover, to apply vectorized operation between a 2-D array and a 1-D array, you must ensure that the shape of the 1-D array is $(m, 1)$ instead of just $(m,)$ if the shape of the 2-D array is $(m, n)$. To transform a 1-D array's shape from $(m,)$ to $(m, 1)$ you just need to invoke the *<code>**reshape(m, 1)**</code>* method on the 1-D array.*)"
   ]
  },
  {
   "cell_type": "markdown",
   "metadata": {},
   "source": [
    "## Solution 8"
   ]
  },
  {
   "cell_type": "code",
   "execution_count": null,
   "metadata": {
    "collapsed": true,
    "jupyter": {
     "outputs_hidden": true
    }
   },
   "outputs": [],
   "source": [
    "def array_of_distances(X, y):\n",
    "    \"\"\"\n",
    "    Return the column-wise Euclidean distance between each column vector of the given input matrix X\n",
    "    and the input vector y. The shape of X and y must be \"compatible\", otherwise None should be returned.\n",
    "    \"\"\"\n",
    "    # YOUR CODE HERE"
   ]
  },
  {
   "cell_type": "markdown",
   "metadata": {},
   "source": [
    "## Test 8"
   ]
  },
  {
   "cell_type": "code",
   "execution_count": null,
   "metadata": {
    "collapsed": true,
    "jupyter": {
     "outputs_hidden": true
    }
   },
   "outputs": [],
   "source": [
    "\"\"\"\n",
    "Please, run this cell to test your solution to Exercise 8 above, by means of some unit tests.\n",
    "Be sure all the unit tests below are passed correctly.\n",
    "\"\"\"\n",
    "assert(np.all(np.abs(array_of_distances(np.array([[0, 1, 2, 3], [4, 5, 6, 7], [8, 9, 10, 11]]), np.array([0, 4, 8])) -\\\n",
    "       np.array([0., 1.73205081, 3.46410162, 5.19615242])) < EPSILON))\n",
    "assert(array_of_distances(np.array([[0, 1, 2, 3], [4, 5, 6, 7], [8, 9, 10, 11]]), np.array([0, 4])) == None)\n",
    "assert(np.all(np.abs(array_of_distances(np.array([[0, 1], [4, 5]]), np.array([1, 2])) -\\\n",
    "       np.array([2.23606798, 3.])) < EPSILON))"
   ]
  }
 ],
 "metadata": {
  "kernelspec": {
   "display_name": "Python 3",
   "language": "python",
   "name": "python3"
  },
  "language_info": {
   "codemirror_mode": {
    "name": "ipython",
    "version": 3
   },
   "file_extension": ".py",
   "mimetype": "text/x-python",
   "name": "python",
   "nbconvert_exporter": "python",
   "pygments_lexer": "ipython3",
   "version": "3.7.3"
  }
 },
 "nbformat": 4,
 "nbformat_minor": 4
}
