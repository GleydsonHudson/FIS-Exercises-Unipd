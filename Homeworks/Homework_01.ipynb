{
 "cells": [
  {
   "cell_type": "markdown",
   "metadata": {},
   "source": [
    "# Homework 01\n",
    "\n",
    "### Instructions:\n",
    "If you are able to see this successfully, it means you have downloaded this notebook file (<code>**Homework_01.ipynb**</code>) on your local machine, started up your Jupyter Notebook server, and opened the notebook file from the running server.<br />\n",
    "\n",
    "In the following, you will be prompted with a sequence of coding exercises.\n",
    "Each (code) cell contains a single exercise; <u>unless otherwise specified</u>, each exercise is **self-contained**, i.e., there is no dependency with any other exercise contained in the above cells. In other words, you don't need to solve exercises in any particular order and/or execute the notebook's cells in the same order as they appear.<br />\n",
    "\n",
    "Please, remember that to execute a cell you need to do the following:\n",
    "-  Be sure the cell is selected (you can verify this by looking at the cell border: if this is green the cell is selected);\n",
    "-  Go to the *Main Menu* bar, click on *Cell --> Run Cells*. Alternatively, you can use a keyboard shortcut (e.g., <code>**Ctrl + Enter**</code>).\n",
    "\n",
    "Finally, I **strongly** recommend you not to delete nor modify this notebook in any of its parts. As this is not a read-only file, anyone could make changes to it. Should you do it by mistake, just download this notebook file again from our [Moodle web page](https://elearning.unipd.it/math/course/view.php?id=321)."
   ]
  },
  {
   "cell_type": "markdown",
   "metadata": {},
   "source": [
    "## Exercise 1\n",
    "Define two variables, <code>**a**</code> and <code>**b**</code> with the values <code>**42**</code> and <code>**73**</code>, respectively. Store the result of the sum of the two variables above into a third variable (<code>**c**</code>). Finally, print the result to the <code>**stdout**</code>. Use comments to describe your code.<br />\n",
    "(*Suggestion: Use the Python's built-in *<code>**print()**</code>* function*)"
   ]
  },
  {
   "cell_type": "markdown",
   "metadata": {},
   "source": [
    "## Solution 1"
   ]
  },
  {
   "cell_type": "code",
   "execution_count": null,
   "metadata": {},
   "outputs": [],
   "source": [
    "# YOUR CODE HERE"
   ]
  },
  {
   "cell_type": "markdown",
   "metadata": {},
   "source": [
    "## Exercise 2\n",
    "Consider the list object <code>**colors**</code> defined as below, and print out the **second** and the **second from last** elements of such a list, yet with its first letter capitalized and separated by a comma (<code>**,**</code>).<br />\n",
    "(*Suggestion: To capitalize only the first letter of a string, invoke the Python's built-in *<code>**title()**</code>* function on that string*) "
   ]
  },
  {
   "cell_type": "code",
   "execution_count": null,
   "metadata": {},
   "outputs": [],
   "source": [
    "colors = ['red', 'green', 'blue', 'cyan', 'magenta', 'black', 'white']"
   ]
  },
  {
   "cell_type": "markdown",
   "metadata": {},
   "source": [
    "## Solution 2"
   ]
  },
  {
   "cell_type": "code",
   "execution_count": null,
   "metadata": {},
   "outputs": [],
   "source": [
    "# YOUR CODE HERE"
   ]
  },
  {
   "cell_type": "markdown",
   "metadata": {},
   "source": [
    "## Exercise 3\n",
    "Consider the list object <code>**contact**</code> defined as below, which contains the firstname, lastname, and age of a single individual, respectively. Print out the information contained in the list according to the following pattern format:\n",
    "\n",
    "Lastname = <code>**{lastname}**</code>;\n",
    "Firstname = <code>**{firstname}**</code>;\n",
    "Age = <code>**{age}**</code>.\n",
    "\n",
    "<code>**{lastname}**</code>, <code>**{firstname}**</code>, and <code>**{age}**</code> indicates the values contained in the list.\n",
    "\n",
    "(*Suggestion: The Python's built-in *<code>**print()**</code>* function can contain **placeholders**, denoted by *<code>**{}**</code>* and substituted using the *<code>**format()**</code>* method.\n",
    "For example, the statement *<code>**print(\"My name is {}\".format(x))**</code>* takes the value referenced by *<code>**x**</code>* and substitutes it to the curly braces *<code>**{}**</code>)"
   ]
  },
  {
   "cell_type": "code",
   "execution_count": null,
   "metadata": {},
   "outputs": [],
   "source": [
    "contact = ['will', 'simith', 50] # Note that firstname's and lastname's initials are not capitalized..."
   ]
  },
  {
   "cell_type": "markdown",
   "metadata": {},
   "source": [
    "## Solution 3"
   ]
  },
  {
   "cell_type": "code",
   "execution_count": null,
   "metadata": {},
   "outputs": [],
   "source": [
    "# YOUR CODE HERE"
   ]
  },
  {
   "cell_type": "markdown",
   "metadata": {},
   "source": [
    "## Exercise 4\n",
    "Consider the skeleton of the function below called <code>**negate**</code>, which takes as input a string <code>**s**</code> and return a new string obtained by concatenating the constant string <code>**\"not\"**</code> to the string <code>**s**</code> given as input, with a whitespace between the two. For example, <code>**negate(\"good\") = \"not good\"**</code>.\n",
    "\n",
    "Implement the function by replacing the <code>**# YOUR CODE HERE**</code> with your own code. Once you have done it, test that your implementation works as you expect by running the cell **next** to the one right below this.\n",
    "\n",
    "(*At this stage, your implementation should not consider any edge cases, i.e., you can trust the caller will invoke your function correctly. Note, however, that this might not be generally true, and later on you should also take this into account, e.g., what if the input argument <code>**s**</code> is not a string?*)"
   ]
  },
  {
   "cell_type": "markdown",
   "metadata": {},
   "source": [
    "## Solution 4"
   ]
  },
  {
   "cell_type": "code",
   "execution_count": null,
   "metadata": {},
   "outputs": [],
   "source": [
    "def negate(s):\n",
    "    \"\"\" Negate the string s passed as input, by returning a new string obtained \n",
    "    from concatenating 'not' to s with a whitespace in between. \"\"\"\n",
    "    # YOUR CODE HERE"
   ]
  },
  {
   "cell_type": "code",
   "execution_count": null,
   "metadata": {},
   "outputs": [],
   "source": [
    "# This cell is used to test your solution to Exercise 4 above, by means of some unit tests.\n",
    "assert(negate(\"good\")) == \"not good\"\n",
    "assert(negate(\"  bad\")) == \"not   bad\"\n",
    "assert(negate(\"cool \")) == \"not cool \"\n",
    "assert(negate(\"cool but fair\")) == \"not cool but fair\""
   ]
  },
  {
   "cell_type": "markdown",
   "metadata": {},
   "source": [
    "## Exercise 5\n",
    "Consider the skeleton of the function below called <code>**replace_element_at**</code>, which takes as input a list <code>**l**</code>, an integer <code>**x**</code>, and a position <code>**i**</code>. The function modifies the list <code>**l**</code>, where the <code>**i**</code>-th element is replaced with <code>**x**</code>. For example, <code>**replace_element_at(['a', 37, 'foo', 'bar', 123, 45], 5.96, 4) = ['a', 37, 'foo', 5.96, 123, 45]**</code>.\n",
    "\n",
    "Implement the function by replacing the <code>**# YOUR CODE HERE**</code> with your own code. Once you have done it, test that your implementation works as you expect by running the cell **next** to the one right below this.\n",
    "\n",
    "(*Similarly to Exercise 4 above, your implementation should not consider any edge cases. Still, I **strongly** encourage you to think at least what will happen if someone calls improperly your function, e.g., if position <code>**i**</code> is outside the input list range*)"
   ]
  },
  {
   "cell_type": "markdown",
   "metadata": {},
   "source": [
    "## Solution 5"
   ]
  },
  {
   "cell_type": "code",
   "execution_count": null,
   "metadata": {},
   "outputs": [],
   "source": [
    "def replace_element_at(l, x, i):\n",
    "    \"\"\" Replace the i-th element of l with x. \"\"\"\n",
    "    # YOUR CODE HERE"
   ]
  },
  {
   "cell_type": "code",
   "execution_count": null,
   "metadata": {},
   "outputs": [],
   "source": [
    "# This cell is used to test your solution to Exercise 5 above, by means of some unit tests.\n",
    "my_list = [42, 'alice', 'bob', 77, 123, 'charlie'] # input list\n",
    "replace_element_at(my_list, 3.14, 3) # function call (side effect is expected)\n",
    "assert(my_list == [42, 'alice', 3.14, 77, 123, 'charlie'])"
   ]
  },
  {
   "cell_type": "markdown",
   "metadata": {},
   "source": [
    "## Exercise 6\n",
    "Consider the skeleton of the function below called <code>**replace_char_at**</code>, which takes as input a string <code>**s**</code>, a char <code>**c**</code>, and a position <code>**i**</code>. The function returns a modified string (remember, Python strings are **_immutable_**!), where the <code>**i**</code>-th character is replaced with <code>**c**</code>. For example, <code>**replace_char_at(\"accent\", \"p\", 5) = \"accept\"**</code>.\n",
    "\n",
    "Implement the function by replacing the <code>**# YOUR CODE HERE**</code> with your own code. Once you have done it, test that your implementation works as you expect by running the cell **next** to the one right below this.\n",
    "\n",
    "(*Similarly to Exercise 5 above, your implementation should not consider any edge cases. Still, I **strongly** encourage you to think at least what will happen if someone calls improperly your function, e.g., if position <code>**i**</code> is negative or greater than the length of the string*)"
   ]
  },
  {
   "cell_type": "markdown",
   "metadata": {},
   "source": [
    "## Solution 6"
   ]
  },
  {
   "cell_type": "code",
   "execution_count": null,
   "metadata": {},
   "outputs": [],
   "source": [
    "def replace_char_at(s, c, i):\n",
    "    \"\"\" Replace the i-th character of s with x. \"\"\"\n",
    "    # YOUR CODE HERE"
   ]
  },
  {
   "cell_type": "code",
   "execution_count": null,
   "metadata": {},
   "outputs": [],
   "source": [
    "# This cell is used to test your solution to Exercise 6 above, by means of some unit tests.\n",
    "my_string = \"waited\" # input string\n",
    "new_string = replace_char_at(my_string, 's', 3) # function call (NO side effect is expected, as string is immutable)\n",
    "assert(new_string == \"wasted\")"
   ]
  }
 ],
 "metadata": {
  "kernelspec": {
   "display_name": "Python 3",
   "language": "python",
   "name": "python3"
  },
  "language_info": {
   "codemirror_mode": {
    "name": "ipython",
    "version": 3
   },
   "file_extension": ".py",
   "mimetype": "text/x-python",
   "name": "python",
   "nbconvert_exporter": "python",
   "pygments_lexer": "ipython3",
   "version": "3.7.3"
  }
 },
 "nbformat": 4,
 "nbformat_minor": 4
}
