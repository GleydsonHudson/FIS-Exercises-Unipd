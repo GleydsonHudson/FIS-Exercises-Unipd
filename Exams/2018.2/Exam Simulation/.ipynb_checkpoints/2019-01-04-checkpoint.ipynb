{
 "cells": [
  {
   "cell_type": "markdown",
   "metadata": {
    "deletable": false,
    "editable": false,
    "nbgrader": {
     "checksum": "890ec0665f43074f875286391846509a",
     "grade": false,
     "grade_id": "header",
     "locked": true,
     "schema_version": 1,
     "solution": false
    }
   },
   "source": [
    "# 2019-01-04 Exam Simulation\n",
    "\n",
    "### General Instructions:\n",
    "\n",
    "The following set of exercises are meant to give you a glimpse of what you will be asked to solve during an _actual_ examination session of **Python Programming (for Data Science)**. More specifically, each exercise below asks you either to answer some questions or to implement a certain function (possibly, you will need to implement your own \"helper\" functions as well, if doing so makes the overall task simpler to achieve). \n",
    "Plus, each exercise accounts for a certain number of points, which you will earn **if and only if** the answer you provide is correct or the implementation you come up with passes successfully **all** the tests (both those that are visible to you and those that are hidden).<br />\n",
    "\n",
    "To actually write down your implementation, make sure to fill in any place that says <code style=\"color:green\">**_# YOUR CODE HERE_**</code>. Note also that you should **either comment or delete** any <code style=\"color:green\">**raise NotImplementedError()**</code> exception.<br />\n",
    "Once you are done, save this notebook and rename it as follows:\n",
    "\n",
    "<code>**YOURUSERNAME_2019-01-04.ipynb**</code>\n",
    "\n",
    "where <code>**YOURUSERNAME**</code> is your actual username. To be consistent, we are expecting your username to be composed by your first name's initial, followed by your full lastname. As an example, in my case this notebook must be saved as <code>**gtolomei_2019-01-04.ipynb**</code> (Remember to insert an underscore <code>**'_'**</code> between your username and the date).<br />\n",
    "\n",
    "Finally, go back to the [Moodle page](https://elearning.unipd.it/math/mod/assign/view.php?id=13250) and check for the \"**2019-01-04 Exam Simulation**\" item; there, you will be able to upload your notebook file for grading.\n",
    "**NOTE:** As this is just a simulation, the grade you will get from it is \"virtual\", i.e., it will not affect your final mark; in fact, you might also opt not to submit your notebook for grading although by doing so you will not be able to get significant feedback from this simulation. \n",
    "\n",
    "<center><h3>Submissions are allowed **until <span style=\"color:red\">Monday, 21 January 2019 at 11:55 PM</span>**</h3></center>\n",
    "\n",
    "Note that there is no limit on the number of submissions; however, be careful when you upload a new version of this notebook because each submission overwrites the previous one. \n",
    "After the due date indicated above, the latest uploaded notebook will be considered as the one to be graded.\n",
    "\n",
    "The archive you have downloaded (<code style=\"color:magenta\">**2019-01-04-exam-simulation.tar**</code>) is organized according to the following directory structure:\n",
    "\n",
    "<code style=\"color:red\">**2019-01-04-exam-simulation**</code> (root)<br />\n",
    "|----<code style=\"color:green\">**2019-01-04.ipynb**</code> (_this_ notebook)<br />\n",
    "|----<code>**dataset.csv**</code><br />\n",
    "|----<code>**README.txt**</code>"
   ]
  },
  {
   "cell_type": "markdown",
   "metadata": {
    "deletable": false,
    "editable": false,
    "nbgrader": {
     "checksum": "6555c5024084cb8965381a37a29377c9",
     "grade": false,
     "grade_id": "name",
     "locked": true,
     "schema_version": 1,
     "solution": false
    }
   },
   "source": [
    "**First Name** = Your _first name_ here\n",
    "\n",
    "**Last Name** = Your _last name_ here"
   ]
  },
  {
   "cell_type": "code",
   "execution_count": null,
   "metadata": {
    "deletable": false,
    "editable": false,
    "nbgrader": {
     "checksum": "1cdf0912dc8cddf3de154296f7090710",
     "grade": false,
     "grade_id": "import",
     "locked": true,
     "schema_version": 1,
     "solution": false
    }
   },
   "outputs": [],
   "source": [
    "import math\n",
    "import numpy as np\n",
    "import pandas as pd\n",
    "import matplotlib.pyplot as plt\n",
    "# Adding the following line, allows Jupyter Notebook to visualize plots\n",
    "# produced by matplotlib directly below the code cell which generated those.\n",
    "%matplotlib inline\n",
    "import seaborn as sns\n",
    "from nose.tools import assert_equal\n",
    "from operator import itemgetter\n",
    "\n",
    "EPSILON = .000001 # tiny tolerance for managing subtle differences resulting from floating point operations\n",
    "\n",
    "DATASET_FILE = \"dataset.csv\""
   ]
  },
  {
   "cell_type": "markdown",
   "metadata": {
    "deletable": false,
    "editable": false,
    "nbgrader": {
     "checksum": "9abf62ed3b37fcecc351201bc408247e",
     "grade": false,
     "grade_id": "part-1",
     "locked": true,
     "schema_version": 1,
     "solution": false
    }
   },
   "source": [
    "# Part 1: General Coding (16 points)\n",
    "\n",
    "For **Part 1**, you will be asked to use the dictionary below - called <code>**friends**</code> - which represents a small social network graph extracted from **10** characters of the _Friends_ TV series. Each entry of this dictionary contains the name of the character as key and a list of tuples as value; each tuple, in turn, is composed of two items: the name of a character and a float in the range **(0, 1]** which measures the strength of this relationship.<br /> \n",
    "Please, execute the cell right below and answer the following questions."
   ]
  },
  {
   "cell_type": "code",
   "execution_count": null,
   "metadata": {
    "deletable": false,
    "editable": false,
    "nbgrader": {
     "checksum": "db7ce3bafbd1d9d13bcfb1e96dea7345",
     "grade": false,
     "grade_id": "part-1-required",
     "locked": true,
     "schema_version": 1,
     "solution": false
    }
   },
   "outputs": [],
   "source": [
    "friends = {\n",
    "    'Rachel Green': [('Ross Geller', 1.0), \n",
    "                     ('Paul Stevens', 0.46),\n",
    "                     ('Chandler Bing', 0.73),\n",
    "                     ('Monica Geller', 0.92),\n",
    "                     ('Phoebe Buffay', 0.94),\n",
    "                     ('Joey Tribbiani', 0.97),\n",
    "                     ('Gunther', 0.01)\n",
    "                    ],\n",
    "    'Monica Geller': [('Ross Geller', 0.85),\n",
    "                      ('Phoebe Buffay', 0.89),\n",
    "                      ('Rachel Green', 0.89),\n",
    "                      ('Chandler Bing', 1.0),\n",
    "                      ('Joey Tribbiani', 0.90),\n",
    "                      ('Janice Hosenstein', 0.07),\n",
    "                      ('Gunther', 0.51),\n",
    "                      ('Ursula Buffay', 0.42),\n",
    "                      ('Paul Stevens', 0.27)\n",
    "                     ],\n",
    "    'Phoebe Buffay': [('Ursula Buffay', 0.01),\n",
    "                      ('Joey Tribbiani', 0.96),\n",
    "                      ('Monica Geller', 0.81),\n",
    "                      ('Rachel Green', 0.88),\n",
    "                      ('Chandler Bing', 0.64),\n",
    "                      ('Ross Geller', 0.83),\n",
    "                      ('Gunther', 0.25)\n",
    "                     ],\n",
    "    'Joey Tribbiani': [('Phoebe Buffay', 0.98),\n",
    "                       ('Chandler Bing', 1.0),\n",
    "                       ('Ross Geller', 0.99),\n",
    "                       ('Rachel Green', 0.97),\n",
    "                       ('Monica Geller', 0.95)\n",
    "                      ],\n",
    "    'Chandler Bing': [('Monica Geller', 1.0),\n",
    "                      ('Joey Tribbiani', 1.0),\n",
    "                      ('Ross Geller', 0.97),\n",
    "                      ('Phoebe Buffay', 0.81),\n",
    "                      ('Rachel Green', 0.68),\n",
    "                      ('Gunther', 0.37),\n",
    "                      ('Janice Hosenstein', 0.16)\n",
    "                     ],\n",
    "    'Ross Geller': [('Monica Geller', 0.95),\n",
    "                    ('Joey Tribbiani', 0.96),\n",
    "                    ('Chandler Bing', 0.96),\n",
    "                    ('Phoebe Buffay', 0.91),\n",
    "                    ('Rachel Green', 1.0),\n",
    "                    ('Paul Stevens', 0.04)],\n",
    "    'Gunther': [('Rachel Green', 1.0)],\n",
    "    'Ursula Buffay': [],\n",
    "    'Janice Hosenstein': [('Chandler Bing', 1.0),\n",
    "                          ('Monica Geller', 0.01)\n",
    "                         ],\n",
    "    'Paul Stevens': [('Rachel Green', 0.88),\n",
    "                     ('Ross Geller', 0.29),\n",
    "                     ('Monica Geller', 0.57)\n",
    "                    ]\n",
    "}"
   ]
  },
  {
   "cell_type": "markdown",
   "metadata": {
    "deletable": false,
    "editable": false,
    "nbgrader": {
     "checksum": "e16aede8080e87e15c27f662a91403e8",
     "grade": false,
     "grade_id": "exercise-1-1-text",
     "locked": true,
     "schema_version": 1,
     "solution": false
    }
   },
   "source": [
    "## Exercise 1.1 (2 points)\n",
    "\n",
    "Implement the function <code>**is_friend_of**</code> which takes as input two strings representing two characters, i.e., <code>**u**</code> and <code>**v**</code>, and returns <code>**True**</code> iff <code>**u**</code> is friend of <code>**v**</code>, <code>**False**</code> otherwise.\n",
    "\n",
    "(**NOTE:** Friendhsip relation is not symmetric, and therefore <code>**u**</code> being friend of <code>**v**</code> **does not** necessarily imply <code>**v**</code> is friend of <code>**u**</code>.)"
   ]
  },
  {
   "cell_type": "code",
   "execution_count": null,
   "metadata": {
    "deletable": false,
    "nbgrader": {
     "checksum": "4f1b547a79ce8667972ab16622f8905e",
     "grade": false,
     "grade_id": "exercise-1-1-code",
     "locked": false,
     "schema_version": 1,
     "solution": true
    }
   },
   "outputs": [],
   "source": [
    "def is_friend_of(u, v):\n",
    "    \"\"\"\n",
    "    Return True iff u is friend of v, False otherwise.\n",
    "    \"\"\"\n",
    "    # YOUR CODE HERE\n",
    "    raise NotImplementedError()"
   ]
  },
  {
   "cell_type": "code",
   "execution_count": null,
   "metadata": {
    "deletable": false,
    "editable": false,
    "nbgrader": {
     "checksum": "74393e9f2f6990b8806d75f43815ec71",
     "grade": true,
     "grade_id": "exercise-1-1-test",
     "locked": true,
     "points": 2,
     "schema_version": 1,
     "solution": false
    }
   },
   "outputs": [],
   "source": [
    "\"\"\"\n",
    "Test the correctness of the implementation of the `is_friend_of` function\n",
    "\"\"\"\n",
    "\n",
    "# Tests\n",
    "assert_equal(True, is_friend_of('Rachel Green', 'Ross Geller'))\n",
    "assert_equal(False, is_friend_of('Paul Stevens', 'Joey Tribbiani'))\n",
    "assert_equal(True, is_friend_of('Chandler Bing', 'Gunther'))\n",
    "assert_equal(False, is_friend_of('Gunther', 'Chandler Bing'))"
   ]
  },
  {
   "cell_type": "markdown",
   "metadata": {
    "deletable": false,
    "editable": false,
    "nbgrader": {
     "checksum": "39a77cb7ed86ae844616d666124d9221",
     "grade": false,
     "grade_id": "exercise-1-2-text",
     "locked": true,
     "schema_version": 1,
     "solution": false
    }
   },
   "source": [
    "## Exercise 1.2 (2 points)\n",
    "\n",
    "Implement the function <code>**n_input_friends_of**</code> which takes as input a character <code>**u**</code> and returns the number of characters <code>**v**</code> that have <code>**u**</code> as one of their friends. In other words, this function computes the _indegree_ of the input node of the social graph.\n",
    "\n",
    "(**HINT:** You can take advantage of the <code>**is_friend_of**</code> function implemented above...)"
   ]
  },
  {
   "cell_type": "code",
   "execution_count": null,
   "metadata": {
    "deletable": false,
    "nbgrader": {
     "checksum": "7da661385f6245115bc6af11c7668273",
     "grade": false,
     "grade_id": "exercise-1-2-code",
     "locked": false,
     "schema_version": 1,
     "solution": true
    }
   },
   "outputs": [],
   "source": [
    "def n_input_friends_of(u):\n",
    "    \"\"\"\n",
    "    Return the number of charachters that have u as one of their friends.\n",
    "    \"\"\"\n",
    "    # YOUR CODE HERE\n",
    "    raise NotImplementedError()"
   ]
  },
  {
   "cell_type": "code",
   "execution_count": null,
   "metadata": {
    "deletable": false,
    "editable": false,
    "nbgrader": {
     "checksum": "386573e1377159bed09d97a05ec2b4ba",
     "grade": true,
     "grade_id": "cell-1-2-test",
     "locked": true,
     "points": 2,
     "schema_version": 1,
     "solution": false
    }
   },
   "outputs": [],
   "source": [
    "\"\"\"\n",
    "Test the correctness of the implementation of the `n_input_friends_of` function\n",
    "\"\"\"\n",
    "\n",
    "# Tests\n",
    "assert_equal(7, n_input_friends_of('Rachel Green'))\n",
    "assert_equal(2, n_input_friends_of('Janice Hosenstein'))\n",
    "assert_equal(5, n_input_friends_of('Joey Tribbiani'))"
   ]
  },
  {
   "cell_type": "markdown",
   "metadata": {
    "deletable": false,
    "editable": false,
    "nbgrader": {
     "checksum": "f59f863361f17a880948de5583b26c39",
     "grade": false,
     "grade_id": "exercise-1-3-text",
     "locked": true,
     "schema_version": 1,
     "solution": false
    }
   },
   "source": [
    "## Exercise 1.3 (3 points)\n",
    "\n",
    "Implement the function <code>**best_friend_of**</code> which takes as input a string representing a character <code>**u**</code>, and returns the name of its best friend. The best friend of any character <code>**u**</code> is the character <code>**v**</code> in <code>**u**</code>'s friend list having the **highest friendship score**. If more than one best friend is found, the function should return the first one in alphabetical order. Finally, the function should return <code>**None**</code> if <code>**u**</code> has no (best) friends at all.\n",
    "\n",
    "(**HINT:** You can use <code>**itemgetter**</code> to sort a list of tuples according to a specific item within each tuple. For example: <code>**sorted(list_of_tuples, key=itemgetter(1))**</code> sorts <code>**list_of_tuples**</code> by the **second** element of each tuple.)"
   ]
  },
  {
   "cell_type": "code",
   "execution_count": null,
   "metadata": {
    "deletable": false,
    "nbgrader": {
     "checksum": "6744277d49fba328c1eac4696af43ddb",
     "grade": false,
     "grade_id": "exercise-1-3-code",
     "locked": false,
     "schema_version": 1,
     "solution": true
    }
   },
   "outputs": [],
   "source": [
    "def best_friend_of(u):\n",
    "    \"\"\"\n",
    "    Return the name of u's best friend, or None if this doesn't exist.\n",
    "    \"\"\"\n",
    "    # YOUR CODE HERE\n",
    "    raise NotImplementedError()"
   ]
  },
  {
   "cell_type": "code",
   "execution_count": null,
   "metadata": {
    "deletable": false,
    "editable": false,
    "nbgrader": {
     "checksum": "ff179f794db59290538d7c38bd634341",
     "grade": true,
     "grade_id": "exercise-1-3-test",
     "locked": true,
     "points": 3,
     "schema_version": 1,
     "solution": false
    }
   },
   "outputs": [],
   "source": [
    "\"\"\"\n",
    "Test the correctness of the implementation of the `best_friend_of` function\n",
    "\"\"\"\n",
    "\n",
    "# Tests\n",
    "assert_equal('Ross Geller', best_friend_of('Rachel Green'))\n",
    "assert_equal('Joey Tribbiani', best_friend_of('Chandler Bing'))\n",
    "assert_equal(None, best_friend_of('Ursula Buffay'))"
   ]
  },
  {
   "cell_type": "markdown",
   "metadata": {
    "deletable": false,
    "editable": false,
    "nbgrader": {
     "checksum": "be61eb79b87701ff173ada610a6656ac",
     "grade": false,
     "grade_id": "exercise-1-4-text",
     "locked": true,
     "schema_version": 1,
     "solution": false
    }
   },
   "source": [
    "## Exercise 1.4 (4 points)\n",
    "\n",
    "Implement the function <code>**friendship_stats**</code> which returns a custom data structure, i.e., a dictionary, where each key is a character and each value is a tuple containing the <code>**n_friends**</code>, <code>**min**</code>, <code>**max**</code>, <code>**avg**</code>, and <code>**median**</code> friendship scores (in this very specific order), computed across characters she is friend of. For any character who has no friends, the corresponding value in this dictionary will be the default tuple <code>(0, -1, -1, -1, -1)</code>.<br />\n",
    "(Note that <code>**n_friends**</code> corresponds to the _outdegree_ of the node representing each character)."
   ]
  },
  {
   "cell_type": "code",
   "execution_count": null,
   "metadata": {
    "deletable": false,
    "nbgrader": {
     "checksum": "43a3a6f1b53b18a739869606eac0a75e",
     "grade": false,
     "grade_id": "exercise-1-4-code",
     "locked": false,
     "schema_version": 1,
     "solution": true
    }
   },
   "outputs": [],
   "source": [
    "def friendship_stats():\n",
    "    \"\"\"\n",
    "    Return a dictionary where each key is a character and each value is a tuple containing \n",
    "    the number of (outgoing) friends, min, max, avg, and median values of friendship score for that character.\n",
    "    \"\"\"\n",
    "    friendship_stats = {} # This is the variable that you shall return\n",
    "    # YOUR CODE HERE\n",
    "    raise NotImplementedError()\n",
    "    return friendship_stats"
   ]
  },
  {
   "cell_type": "code",
   "execution_count": null,
   "metadata": {
    "deletable": false,
    "editable": false,
    "nbgrader": {
     "checksum": "3d86646e82d6eded555ebd3338ad52c2",
     "grade": true,
     "grade_id": "exercise-1-4-test",
     "locked": true,
     "points": 4,
     "schema_version": 1,
     "solution": false
    }
   },
   "outputs": [],
   "source": [
    "\"\"\"\n",
    "Test the correctness of the implementation of the `friendship_stats` function\n",
    "\"\"\"\n",
    "\n",
    "# Call off `friendship_stats` function\n",
    "stats = friendship_stats()\n",
    "\n",
    "# Tests\n",
    "# number of (outgoing) friends of 'Ross Geller'\n",
    "assert_equal(6, stats['Ross Geller'][0]) \n",
    "# min friendship score of (outgoing) friends of 'Rachel Green'\n",
    "assert_equal(True, np.abs(0.01 - stats['Rachel Green'][1]) < EPSILON)\n",
    "# max friendship score of (outgoing) friends of 'Ursula Buffay'\n",
    "assert_equal(-1, stats['Ursula Buffay'][2])\n",
    "# avg friendship score of (outgoing) friends of 'Chandler Bing'\n",
    "assert_equal(True, np.abs(0.71285714285714286 - stats['Chandler Bing'][3]) < EPSILON)\n",
    "# median friendship score of (outgoing) friends of 'Joey Tribbiani'\n",
    "assert_equal(True, np.abs(0.97999999999999998 - stats['Joey Tribbiani'][4]) < EPSILON)"
   ]
  },
  {
   "cell_type": "markdown",
   "metadata": {
    "deletable": false,
    "editable": false,
    "nbgrader": {
     "checksum": "475ecf34dbba876379930e14291ade25",
     "grade": false,
     "grade_id": "exercise-1-5-text",
     "locked": true,
     "schema_version": 1,
     "solution": false
    }
   },
   "source": [
    "## Exercise 1.5 (5 points)\n",
    "\n",
    "Implement the function <code>**most_likely_friendship_chain**</code>, which takes as input **two lists of strings** representing two _paths_ on the social network graph above, i.e., <code>**path_i**</code> and <code>**path_j**</code>. For example, <code>**path_i = ['Ross Geller', 'Chandler Bing', 'Janice Hosenstein']**</code> and <code>**path_j = ['Monica Geller', 'Phoebe Buffay']**</code>.<br />\n",
    "Instead of using the original dictionary <code>**friends**</code>, as you did for exercises above, here you will be using another data structure called <code>**markovian_friends**</code>, and created in the cell right below. This new data structure is a dictionary of dictionaries (rather than a dictionary of lists of tuples). Each key of <code>**markovian_friends**</code> is still the name of a _Friends_ character <code>**n**</code>, and each value associated to <code>**n**</code> is a nested dictionary whose keys are <code>**n**</code>'s friends and whose values represent the _probability_ of <code>**n**</code> reaching one of her/his friends.\n",
    "\n",
    "The goal of <code>**most_likely_friendship_chain**</code> function is to return which path between <code>**path_i**</code> and <code>**path_j**</code> is the most likely, along with its associated probability. <br />\n",
    "You can assume the likelihood of a path as being the **product of each individual probabilities** for moving from a character to the next one along the path (_Markov property_):\n",
    "$$\n",
    "\\texttt{likelihood(['Ross Geller', 'Chandler Bing', 'Janice Hosenstein'])} = \\\\\n",
    "P(\\texttt{'Ross Geller'}, \\texttt{'Chandler Bing'}) * P(\\texttt{'Chandler Bing'}, \\texttt{'Janice Hosenstein'})\n",
    "$$\n",
    "\n",
    "Note that if a path contains two **consecutive** characters that are not friends with each other, its overall likelihood falls back to <code>**0**</code>. Plus, if the likelihood of **both** <code>**path_i**</code> and <code>**path_j**</code> is <code>**0**</code>, the function should return <code>**None**</code>. Finally, if the two input paths have exactly the same likelihood, yet different from <code>**0**</code>, you can return either one or the other.\n",
    "\n",
    "(**SUGGESTION:** Implement an helper function, e.g., <code>**path_likelihood**</code> which measures the overall likelihood of a **single** path; then, delegate off to this helper function inside the body of <code>**most_likely_friendship_chain**</code>, and return a tuple containing the most likely path along with the computed likelihood, or <code>**None**</code> if both paths have 0-likelihood)."
   ]
  },
  {
   "cell_type": "code",
   "execution_count": null,
   "metadata": {
    "deletable": false,
    "editable": false,
    "nbgrader": {
     "checksum": "85dc9b2a4fecb038d497fdf52988edb1",
     "grade": false,
     "grade_id": "exercise-1-5-required",
     "locked": true,
     "schema_version": 1,
     "solution": false
    }
   },
   "outputs": [],
   "source": [
    "import json\n",
    "\n",
    "markovian_friends = {} # This is the data structure you will be using for solving this exercise\n",
    "\n",
    "for f in friends:\n",
    "    tot_friendship_score_f = np.sum([u[1] for u in friends[f]])\n",
    "    markovian_friends[f] = dict([(u[0], u[1]/tot_friendship_score_f) for u in friends[f]])\n",
    "    \n",
    "print(json.dumps(markovian_friends, indent=4, sort_keys=True))"
   ]
  },
  {
   "cell_type": "code",
   "execution_count": null,
   "metadata": {
    "deletable": false,
    "nbgrader": {
     "checksum": "e08ad3deee350ad330acacc2f884818f",
     "grade": false,
     "grade_id": "exercise-1-5-code",
     "locked": false,
     "schema_version": 1,
     "solution": true
    }
   },
   "outputs": [],
   "source": [
    "### SUGGESTION: Implement the function `path_likelihood` below which will return the likelihood of a single path\n",
    "### If you don't want to use this approach, and you would rather prefer to implement \n",
    "### the function `most_likely_friendship_chain` directly, please remember to delete this helper function before!\n",
    "def path_likelihood(path):\n",
    "    # YOUR CODE HERE\n",
    "    raise NotImplementedError()\n",
    "        \n",
    "def most_likely_friendship_chain(path_i, path_j):\n",
    "    \"\"\"\n",
    "    Return a tuple (path, likelihood) where path is the most likely path between path_i and path_j \n",
    "    and likelihood is the actual likelihood value of the most likely path.\n",
    "    Return None if both path_i and path_j represent 0-likelihood paths.\n",
    "    \"\"\"\n",
    "    # YOUR CODE HERE\n",
    "    raise NotImplementedError()"
   ]
  },
  {
   "cell_type": "code",
   "execution_count": null,
   "metadata": {
    "deletable": false,
    "editable": false,
    "nbgrader": {
     "checksum": "a82926fa6fd0fc9fd1de97800059904d",
     "grade": true,
     "grade_id": "exercise-1-5-test",
     "locked": true,
     "points": 5,
     "schema_version": 1,
     "solution": false
    }
   },
   "outputs": [],
   "source": [
    "\"\"\"\n",
    "Test the correctness of the implementation of the `most_likely_friendship_chain` function\n",
    "\"\"\"\n",
    "\n",
    "# Tests\n",
    "assert_equal(['Monica Geller', 'Chandler Bing', 'Janice Hosenstein'], \n",
    "            most_likely_friendship_chain(['Joey Tribbiani', 'Ross Geller', 'Paul Stevens'], \n",
    "                                         ['Monica Geller', 'Chandler Bing', 'Janice Hosenstein'])[0])\n",
    "\n",
    "assert_equal(True, np.abs(0.0055282979752608674 - \n",
    "            most_likely_friendship_chain(['Joey Tribbiani', 'Ross Geller', 'Paul Stevens'], \n",
    "                                         ['Monica Geller', 'Chandler Bing', 'Janice Hosenstein'])[1]) < EPSILON)\n",
    "\n",
    "assert_equal(['Rachel Green', 'Ross Geller', 'Chandler Bing', 'Janice Hosenstein'], \n",
    "            most_likely_friendship_chain(['Ursula Buffay', 'Rachel Green'], \n",
    "                                         ['Rachel Green', 'Ross Geller', 'Chandler Bing', 'Janice Hosenstein'])[0])\n",
    "\n",
    "assert_equal(True, np.abs(0.00126962553007 - \n",
    "            most_likely_friendship_chain(['Ursula Buffay', 'Rachel Green'], \n",
    "                                         ['Rachel Green', 'Ross Geller', 'Chandler Bing', 'Janice Hosenstein'])[1]) < EPSILON)\n",
    "\n",
    "assert_equal(['Gunther'], \n",
    "            most_likely_friendship_chain(['Gunther'], \n",
    "                                         ['Rachel Green', 'Chandler Bing'])[0])\n",
    "\n",
    "assert_equal(1, \n",
    "            most_likely_friendship_chain(['Gunther'], \n",
    "                                         ['Rachel Green', 'Chandler Bing'])[1])\n",
    "\n",
    "assert_equal(None, \n",
    "            most_likely_friendship_chain(['Joey Tribbiani', 'Phoebe Buffay', 'Paul Stevens'], \n",
    "                                         ['Rachel Green', 'Janice Hosenstein']))"
   ]
  },
  {
   "cell_type": "markdown",
   "metadata": {
    "deletable": false,
    "editable": false,
    "nbgrader": {
     "checksum": "10053190f9bb4cbd445314e2ac3e0a48",
     "grade": false,
     "grade_id": "part-2",
     "locked": true,
     "schema_version": 1,
     "solution": false
    }
   },
   "source": [
    "# Part 2: Data Science (16 points)\n",
    "\n",
    "In this part, you will be working with the dataset file <code>**dataset.csv**</code>. For a complete description of this data source, please refer to the <code>**README.txt**</code>.\n",
    "In a nutshell, this dataset has a total of **303 instances** about cardiological patients.\n",
    "Each patient (i.e., row in the file) is described by **13** features (i.e., columns) and labeled with an integer value (i.e., the 14th and last column called <code>**disease**</code>), ranging from **0** (meaning that the patient has no disease) to **4** (high-disease).<br />\n",
    "The cell below is responsible for correctly loading the dataset from the <code>**dataset.csv**</code> file. Once this is executed, you can start answering the questions below."
   ]
  },
  {
   "cell_type": "code",
   "execution_count": null,
   "metadata": {
    "deletable": false,
    "editable": false,
    "nbgrader": {
     "checksum": "4be1372286ba1535934274c3bf25078d",
     "grade": false,
     "grade_id": "part-2-required",
     "locked": true,
     "schema_version": 1,
     "solution": false
    }
   },
   "outputs": [],
   "source": [
    "# Load the dataset stored at `DATASET_FILE` using \",\" as field separator and '?' to detect NAs\n",
    "columns = ['age', 'sex', 'cp', 'trestbps', 'chol', 'fbs', 'restecg', \n",
    "           'thalach', 'exang', 'oldpeak', 'slope', 'ca', 'thal', 'disease']\n",
    "data = pd.read_csv(DATASET_FILE, \n",
    "                   sep=\",\", \n",
    "                   header=None,\n",
    "                   na_values='?',\n",
    "                   names=columns)\n",
    "data.head()"
   ]
  },
  {
   "cell_type": "markdown",
   "metadata": {
    "deletable": false,
    "editable": false,
    "nbgrader": {
     "checksum": "b5977575fbb9db6184a07a8ab4154fce",
     "grade": false,
     "grade_id": "exercise-2-1-text",
     "locked": true,
     "schema_version": 1,
     "solution": false
    }
   },
   "source": [
    "## Exercise 2.1 (2 points)\n",
    "\n",
    "Implement the function <code>**idx_of_female_instances**</code> below, which takes as input a <code>**pandas.DataFrame**</code> object and returns the list of index values which correspond to instances (i.e., rows) representing **female** patients."
   ]
  },
  {
   "cell_type": "code",
   "execution_count": null,
   "metadata": {
    "deletable": false,
    "nbgrader": {
     "checksum": "d32fc9f7bc8e09dee62bb05773cd8dbc",
     "grade": false,
     "grade_id": "exercise-2-1-code",
     "locked": false,
     "schema_version": 1,
     "solution": true
    }
   },
   "outputs": [],
   "source": [
    "def idx_of_female_instances(data):\n",
    "    \"\"\"\n",
    "    Return the list of index values which correspond to instances (i.e., rows) \n",
    "    representing female patients.\n",
    "    \"\"\"\n",
    "    # YOUR CODE HERE\n",
    "    raise NotImplementedError()"
   ]
  },
  {
   "cell_type": "code",
   "execution_count": null,
   "metadata": {
    "deletable": false,
    "editable": false,
    "nbgrader": {
     "checksum": "6c626433c328c416b0350b7d980bc44b",
     "grade": true,
     "grade_id": "exercise-2-1-test",
     "locked": true,
     "points": 2,
     "schema_version": 1,
     "solution": false
    }
   },
   "outputs": [],
   "source": [
    "\"\"\"\n",
    "Test the correctness of the implementation of the `idx_of_female_instances` function\n",
    "\"\"\"\n",
    "\n",
    "assert_equal(4, idx_of_female_instances(data)[0])\n",
    "assert_equal(7, idx_of_female_instances(data)[2])\n",
    "assert_equal(21, idx_of_female_instances(data)[5])"
   ]
  },
  {
   "cell_type": "markdown",
   "metadata": {
    "deletable": false,
    "editable": false,
    "nbgrader": {
     "checksum": "8180ba0f5227138ef2b76951c344bd56",
     "grade": false,
     "grade_id": "exercise-2-2-text",
     "locked": true,
     "schema_version": 1,
     "solution": false
    }
   },
   "source": [
    "## Exercise 2.2 (2 points)\n",
    "\n",
    "Implement the function <code>**max_cholesterol**</code> below. This takes as input a <code>**pandas.DataFrame**</code> object and a categorical value <code>**disease**</code> (i.e., **0**, **1**, **2**, **3** or **4** to indicate all levels of possible disease), and returns the **maximum** value of cholesterol of patients having that level of disease."
   ]
  },
  {
   "cell_type": "code",
   "execution_count": null,
   "metadata": {
    "deletable": false,
    "nbgrader": {
     "checksum": "b85304a4165a42ee556577725fb412a5",
     "grade": false,
     "grade_id": "exercise-2-2-code",
     "locked": false,
     "schema_version": 1,
     "solution": true
    }
   },
   "outputs": [],
   "source": [
    "def max_cholesterol(data, level_of_disease):\n",
    "    \"\"\"\n",
    "    Return the maximum value of cholesterol for patients at a specific level of disease.\n",
    "    \"\"\"\n",
    "    # YOUR CODE HERE\n",
    "    raise NotImplementedError()"
   ]
  },
  {
   "cell_type": "code",
   "execution_count": null,
   "metadata": {
    "deletable": false,
    "editable": false,
    "nbgrader": {
     "checksum": "8cd315389a777ea54eb7d5a46509f8be",
     "grade": true,
     "grade_id": "exercise-2-2-test",
     "locked": true,
     "points": 2,
     "schema_version": 1,
     "solution": false
    }
   },
   "outputs": [],
   "source": [
    "\"\"\"\n",
    "Test the correctness of the implementation of the `max_cholesterol` function\n",
    "\"\"\"\n",
    "\n",
    "assert_equal(564, max_cholesterol(data, 0)) # max cholesterol for patients with no disease\n",
    "assert_equal(407, max_cholesterol(data, 4)) # max cholesterol for patients with maximum level of disease"
   ]
  },
  {
   "cell_type": "markdown",
   "metadata": {
    "deletable": false,
    "editable": false,
    "nbgrader": {
     "checksum": "99cc7409e02fe06bdfc80b2a1c6d87a1",
     "grade": false,
     "grade_id": "exercise-2-3-text",
     "locked": true,
     "schema_version": 1,
     "solution": false
    }
   },
   "source": [
    "## Exercise 2.3 (3 points)\n",
    "\n",
    "Implement the function <code>**trestbps_stats**</code> below. This takes as input a <code>**pandas.DataFrame**</code> object and returns a tuple containing the min, max, avg, and median value of <code>**trestbps**</code>, yet computed on a _slice_ of the input <code>**pandas.DataFrame**</code>.<br />\n",
    "The sliced dataset represents the subpopulation containing **male** patients whose age is **between 47 and 52 years old** (extreme included) and having a value of cholesterol (<code>**chol**</code>) above the _oveall_ aveage."
   ]
  },
  {
   "cell_type": "code",
   "execution_count": null,
   "metadata": {
    "deletable": false,
    "nbgrader": {
     "checksum": "4bcfac87f6fd15ac4379ca2023d91818",
     "grade": false,
     "grade_id": "exercise-2-3-code",
     "locked": false,
     "schema_version": 1,
     "solution": true
    }
   },
   "outputs": [],
   "source": [
    "def trestbps_stats(data):\n",
    "    \"\"\"\n",
    "    Return a tuple containing the min, max, avg, and median value of `trestbps` feature,\n",
    "    yet limited to a slice of the input DataFrame (data). \n",
    "    In particular, this slice will contain instances referring to male patients (sex = 1)\n",
    "    whose age is between 47 and 52 (extremes included) and having a value of cholesterol above the overall average.\n",
    "    \"\"\"\n",
    "    # YOUR CODE HERE\n",
    "    raise NotImplementedError()"
   ]
  },
  {
   "cell_type": "code",
   "execution_count": null,
   "metadata": {
    "deletable": false,
    "editable": false,
    "nbgrader": {
     "checksum": "e6666936806f7f138b685450846b9c2b",
     "grade": true,
     "grade_id": "exercise-2-3-test",
     "locked": true,
     "points": 3,
     "schema_version": 1,
     "solution": false
    }
   },
   "outputs": [],
   "source": [
    "\"\"\"\n",
    "Test the correctness of the implementation of the `trestbps_stats` function\n",
    "\"\"\"\n",
    "\n",
    "# Call off `trestbps_stats` function\n",
    "stats = trestbps_stats(data)\n",
    "\n",
    "assert_equal(110, stats[0]) # assess minimum trestbps\n",
    "assert_equal(152, stats[1]) # assess maximum trestbps"
   ]
  },
  {
   "cell_type": "markdown",
   "metadata": {
    "deletable": false,
    "editable": false,
    "nbgrader": {
     "checksum": "8e891b955f7a359b35e43c99b4194481",
     "grade": false,
     "grade_id": "exercise-2-4-text",
     "locked": true,
     "schema_version": 1,
     "solution": false
    }
   },
   "source": [
    "## Exercise 2.4 (4 points)\n",
    "\n",
    "Implement the function <code>**thalach_stats**</code> below. This takes as input a <code>**pandas.DataFrame**</code> object and returns a tuple containing the min, max, avg, and median value of <code>**thalach**</code>, yet computed on a _slice_ of the input <code>**pandas.DataFrame**</code>.<br />\n",
    "The sliced dataset represents the subpopulation containing **female** patients whose age **is not yet 50 years old** **or** (female patients) having blood pressure (<code>**trestbps**</code>) below the median computed across female aged **25 or more**."
   ]
  },
  {
   "cell_type": "code",
   "execution_count": null,
   "metadata": {
    "deletable": false,
    "nbgrader": {
     "checksum": "933c242df5b2cffe4a73824c6add6e21",
     "grade": false,
     "grade_id": "exercise-2-4-code",
     "locked": false,
     "schema_version": 1,
     "solution": true
    }
   },
   "outputs": [],
   "source": [
    "def thalach_stats(data):\n",
    "    \"\"\"\n",
    "    Return a tuple containing the min, max, avg, and median value of `thalach` feature,\n",
    "    yet limited to a slice of the input DataFrame (data). \n",
    "    In particular, this slice will contain instances referring to female patients (sex = 0)\n",
    "    who is not yet 50 years old, or (female patients) having a value of blood pressure below the median of \n",
    "    female patients aged 25 ore more.\n",
    "    \"\"\"\n",
    "    # YOUR CODE HERE\n",
    "    raise NotImplementedError()"
   ]
  },
  {
   "cell_type": "code",
   "execution_count": null,
   "metadata": {
    "deletable": false,
    "editable": false,
    "nbgrader": {
     "checksum": "49384e97ecd3855cb9e71a12e5a01d18",
     "grade": true,
     "grade_id": "exercise-2-4-test",
     "locked": true,
     "points": 4,
     "schema_version": 1,
     "solution": false
    }
   },
   "outputs": [],
   "source": [
    "\"\"\"\n",
    "Test the correctness of the implementation of the `thalach_stats` function\n",
    "\"\"\"\n",
    "\n",
    "# Call off `thalach_stats` function\n",
    "stats = thalach_stats(data)\n",
    "\n",
    "assert_equal(96, stats[0]) # assess minimum thalach\n",
    "assert_equal(192, stats[1]) # assess maximum thalach"
   ]
  },
  {
   "cell_type": "markdown",
   "metadata": {
    "deletable": false,
    "editable": false,
    "nbgrader": {
     "checksum": "cbf496571313e146b5aa258279c3692a",
     "grade": false,
     "grade_id": "exercise-2-5-text",
     "locked": true,
     "schema_version": 1,
     "solution": false
    }
   },
   "source": [
    "## Exercise 2.5 (5 points)\n",
    "\n",
    "This exercise is made of **3** main questions, which you can answer independently to each other."
   ]
  },
  {
   "cell_type": "markdown",
   "metadata": {
    "deletable": false,
    "editable": false,
    "nbgrader": {
     "checksum": "3b6177998dfe1714e832734fe94e4894",
     "grade": false,
     "grade_id": "exercise-2-5-1-text",
     "locked": true,
     "schema_version": 1,
     "solution": false
    }
   },
   "source": [
    "### Question 1 (1 point)\n",
    "\n",
    "Feature labeled as <code>**thal**</code> represents a categorical variable which can take on **3** distinct values: \n",
    "-  **3** = normal \n",
    "-  **6** = fixed defect\n",
    "-  **7** = reversable defect\n",
    "\n",
    "Assign to the variable <code>**count_reversable_defect**</code> below the total number of patients in the dataset exhibiting a reversable defect value of <code>**thal**</code>."
   ]
  },
  {
   "cell_type": "code",
   "execution_count": null,
   "metadata": {
    "deletable": false,
    "nbgrader": {
     "checksum": "451b0e4832742d10c909a9d2fe8ad717",
     "grade": false,
     "grade_id": "exercise-2-5-1-code",
     "locked": false,
     "schema_version": 1,
     "solution": true
    }
   },
   "outputs": [],
   "source": [
    "count_reversable_defect = None\n",
    "\n",
    "# YOUR CODE HERE\n",
    "raise NotImplementedError()"
   ]
  },
  {
   "cell_type": "code",
   "execution_count": null,
   "metadata": {
    "deletable": false,
    "editable": false,
    "nbgrader": {
     "checksum": "29eba44f90bbcdb4ec699daa0a3fd938",
     "grade": true,
     "grade_id": "exercise-2-5-1-test",
     "locked": true,
     "points": 1,
     "schema_version": 1,
     "solution": false
    }
   },
   "outputs": [],
   "source": [
    "\"\"\"\n",
    "Test the correctness of the `count_reversable_defect`\n",
    "\"\"\"\n",
    "\n",
    "assert_equal(False, (count_reversable_defect == None))"
   ]
  },
  {
   "cell_type": "markdown",
   "metadata": {
    "deletable": false,
    "editable": false,
    "nbgrader": {
     "checksum": "a0ddb79ed571d13b48bbbce70802746a",
     "grade": false,
     "grade_id": "exercise-2-5-2-text",
     "locked": true,
     "schema_version": 1,
     "solution": false
    }
   },
   "source": [
    "### Question 2 (1 point)\n",
    "\n",
    "Check whether the numerical feature <code>**trestbps**</code> (blood pressure) has any _outliers_ using box plot; assign the result of the plot to the variable <code>**box_plot_trestbps**</code>. In addition to that, set the variable <code>**has_trestbps_outliers**</code> to either <code>**True**</code> or <code>**False**</code> depending on whether you observe outliers from the box plot or not."
   ]
  },
  {
   "cell_type": "code",
   "execution_count": null,
   "metadata": {
    "deletable": false,
    "nbgrader": {
     "checksum": "d80293c486f5a6cca0e2d3d4aba9fcb2",
     "grade": false,
     "grade_id": "exercise-2-5-2-code",
     "locked": false,
     "schema_version": 1,
     "solution": true
    }
   },
   "outputs": [],
   "source": [
    "box_plot_trestbps = None\n",
    "has_trestbps_outliers = None\n",
    "\n",
    "# YOUR CODE HERE\n",
    "raise NotImplementedError()"
   ]
  },
  {
   "cell_type": "code",
   "execution_count": null,
   "metadata": {
    "deletable": false,
    "editable": false,
    "nbgrader": {
     "checksum": "aa15beb8ee2e6aff6b1f852d5cb81dec",
     "grade": true,
     "grade_id": "exercise-2-5-2-test",
     "locked": true,
     "points": 1,
     "schema_version": 1,
     "solution": false
    }
   },
   "outputs": [],
   "source": [
    "\"\"\"\n",
    "Test the correctness of `box_plot_trestbps` and `has_trestbps_outliers`\n",
    "\"\"\"\n",
    "\n",
    "assert_equal(False, (box_plot_trestbps == None))\n",
    "assert_equal(False, (has_trestbps_outliers == None))"
   ]
  },
  {
   "cell_type": "markdown",
   "metadata": {
    "deletable": false,
    "editable": false,
    "nbgrader": {
     "checksum": "8672256e22524d94c8fd16c2bec74e49",
     "grade": false,
     "grade_id": "exercise-2-5-3-text",
     "locked": true,
     "schema_version": 1,
     "solution": false
    }
   },
   "source": [
    "### Question 3 (3 points)\n",
    "\n",
    "Implement the function <code>**compute_trestbps_fences**</code> below, which takes as input a <code>**pandas.DataFrame**</code> object and returns a two-item tuple (i.e., a pair), with the left and right **fence** value of <code>**trestbps**</code>.<br />\n",
    "Left (resp., right) fence is the value corresponding to the left (resp., right) vertical bar displayed on a box plot, which determines the left (resp., right) boundary between \"expected\" observations and outliers. Both left and right fence are empirically computed as follows:\n",
    "\n",
    "$$\n",
    "F_\\textrm{left} = Q_1 - 1.5 * \\texttt{IQR};~~F_\\textrm{right} = Q_3 + 1.5 * \\texttt{IQR}\n",
    "$$\n",
    "\n",
    "where $Q_1$ and $Q_3$ represents the 1st and 3rd quartile of the distribution of interest, and $\\texttt{IQR} = Q_3 - Q_1$.\n",
    "\n",
    "(**HINT:** You can either invoke the <code>**quantile**</code> function defined on a <code>**pandas.Series**</code> object **or** use the <code>**numpy.percentile**</code> function which takes as input a <code>**pandas.Series**</code> object or, more generally, any object that can easily be converted into a <code>**numpy.array**</code>)."
   ]
  },
  {
   "cell_type": "code",
   "execution_count": null,
   "metadata": {
    "deletable": false,
    "nbgrader": {
     "checksum": "bd11f3c5f14bd027660a49e92411b6f6",
     "grade": false,
     "grade_id": "exercise-2-5-3-code",
     "locked": false,
     "schema_version": 1,
     "solution": true
    }
   },
   "outputs": [],
   "source": [
    "def compute_trestbps_fences(data):\n",
    "    \"\"\"\n",
    "    Return a two-item tuple containing the left and right fence of `trestbps` feature, respectively\n",
    "    \"\"\"\n",
    "    trestbps_fence_left = None # 1st item of the tuple to be returned\n",
    "    trestbps_fence_right = None # 2nd item of the tuple to be returned\n",
    "    # Assign the two variables above the correct values...\n",
    "    # YOUR CODE HERE\n",
    "    raise NotImplementedError()\n",
    "    # Finally, return the tuple\n",
    "    return (trestbps_fence_left, trestbps_fence_right)\n"
   ]
  },
  {
   "cell_type": "code",
   "execution_count": null,
   "metadata": {
    "deletable": false,
    "editable": false,
    "nbgrader": {
     "checksum": "37ae6e112a2ba0583577c96209ed8204",
     "grade": true,
     "grade_id": "exercise-2-5-3-test",
     "locked": true,
     "points": 3,
     "schema_version": 1,
     "solution": false
    }
   },
   "outputs": [],
   "source": [
    "\"\"\"\n",
    "Test the correctness of the `compute_trestbps_fences`\n",
    "\"\"\"\n",
    "\n",
    "# Call off the function `compute_trestbps_fences`\n",
    "trestbps_fence_left, trestbps_fence_right = compute_trestbps_fences(data)\n",
    "\n",
    "assert_equal(False, trestbps_fence_left==None)\n",
    "assert_equal(False, trestbps_fence_right==None)\n",
    "assert_equal(80, (trestbps_fence_right - trestbps_fence_left))"
   ]
  }
 ],
 "metadata": {
  "kernelspec": {
   "display_name": "Python 3",
   "language": "python",
   "name": "python3"
  },
  "language_info": {
   "codemirror_mode": {
    "name": "ipython",
    "version": 3
   },
   "file_extension": ".py",
   "mimetype": "text/x-python",
   "name": "python",
   "nbconvert_exporter": "python",
   "pygments_lexer": "ipython3",
   "version": "3.7.5"
  }
 },
 "nbformat": 4,
 "nbformat_minor": 2
}
