{
 "cells": [
  {
   "cell_type": "markdown",
   "metadata": {
    "nbgrader": {
     "grade": false,
     "grade_id": "header",
     "locked": true,
     "schema_version": 1,
     "solution": false
    }
   },
   "source": [
    "# 2019-07-15 Exam\n",
    "\n",
    "### General Instructions:\n",
    "\n",
    "Welcome to the **Python Programming (for Data Science)** exam session! Please, read **carefully** the instructions below before start writing code. \n",
    "\n",
    "This session will last **75 minutes** and is divided into **two parts**: one about \"general\" Python programming and the other about Python programming for Data Science. Each part is made of a set of exercises, which globally accounts for **16** + **16** = **32 points**.\n",
    "You will earn all of the points associated to an exercise **if and only if** the answer you provide passes successfully **all** the tests (both those that are visible and those that are hidden to you).<br />\n",
    "\n",
    "To actually write down your implementation, make sure to fill in any place that says <code style=\"color:green\">**_# YOUR CODE HERE_**</code>. Note also that you should **either comment or delete** any <code style=\"color:green\">**raise NotImplementedError()**</code> exception.<br />\n",
    "\n",
    "For this exam session **you will not be allowed** to use any lecture material yet you will be able to access the following APIs:\n",
    "\n",
    "-  [Python](https://docs.python.org/3.6/library/index.html)\n",
    "-  [Numpy](https://docs.scipy.org/doc/numpy-1.13.0/reference/)\n",
    "-  [Scipy](https://docs.scipy.org/doc/scipy-1.0.0/reference/)\n",
    "-  [Pandas](https://pandas.pydata.org/pandas-docs/version/0.22/api.html)\n",
    "-  [Matplotlib](https://matplotlib.org/2.1.1/api/index.html)\n",
    "-  [Seaborn](http://seaborn.pydata.org/api.html)\n",
    "\n",
    "Once you are done, save this notebook and rename it as follows:\n",
    "\n",
    "<code>**YOURUSERNAME_2019-07-15.ipynb**</code>\n",
    "\n",
    "where <code>**YOURUSERNAME**</code> is your actual username. To be consistent, we are expecting your username to be composed by your first name's initial, followed by your full lastname. As an example, in my case this notebook must be saved as <code>**gtolomei_2019-07-15.ipynb**</code> (Remember to insert an underscore <code>**'_'**</code> between your username and the date).<br />\n",
    "\n",
    "Finally, go back to the [Moodle](https://elearning.studenti.math.unipd.it/esami/mod/assign/view.php?id=553) web page of the \"**2019-07-15 Python Programming Exam**\"; there, you will be able to upload your notebook file for grading.\n",
    "\n",
    "<center><h3>Submissions are allowed until <span style=\"color:red\">Monday, 15 July 2019 at 10:45 AM</span></h3></center>\n",
    "\n",
    "Note that there is no limit on the number of submissions; however, be careful when you upload a new version of this notebook because each submission overwrites the previous one. \n",
    "The due date indicated above is **strict**; after that, the system will not accept any more submissions and the latest uploaded notebook will be the one considered for grading.\n",
    "\n",
    "The archive you have downloaded (<code style=\"color:magenta\">**2019-07-15-exam.tar**</code>) is orgaized as follows:\n",
    "\n",
    "<code style=\"color:red\">**2019-07-15-exam**</code> (root)<br />\n",
    "|----<code style=\"color:green\">**2019-07-15.ipynb**</code> (_this_ notebook)<br />\n",
    "|----<code>**dataset.csv**</code> (the dataset you will be using for answering data science related questions)<br />\n",
    "|----<code>**README.txt**</code> (a description of the dataset above)\n",
    "\n",
    "<center><h3>... Now, sit back, relax, and do your best!</h3></center>"
   ]
  },
  {
   "cell_type": "markdown",
   "metadata": {},
   "source": [
    "**First Name** = PLEASE, FILL THIS WITH YOUR _FIRST NAME_\n",
    "\n",
    "**Last Name** = PLEASE, FILL THIS WITH YOUR _LAST NAME_"
   ]
  },
  {
   "cell_type": "code",
   "execution_count": null,
   "metadata": {
    "nbgrader": {
     "grade": false,
     "grade_id": "import",
     "locked": true,
     "schema_version": 1,
     "solution": false
    }
   },
   "outputs": [],
   "source": [
    "import math\n",
    "import copy\n",
    "import numpy as np\n",
    "import pandas as pd\n",
    "import matplotlib.pyplot as plt\n",
    "# Adding the following line, allows Jupyter Notebook to visualize plots\n",
    "# produced by matplotlib directly below the code cell which generated those.\n",
    "%matplotlib inline\n",
    "import seaborn as sns\n",
    "from collections import Counter\n",
    "from nose.tools import assert_equal\n",
    "from operator import itemgetter\n",
    "from scipy.stats import pearsonr\n",
    "\n",
    "EPSILON = .0000001 # tiny tolerance for managing subtle differences resulting from floating point operations\n",
    "\n",
    "DATASET_FILE = \"dataset.csv\""
   ]
  },
  {
   "cell_type": "markdown",
   "metadata": {
    "nbgrader": {
     "grade": false,
     "grade_id": "part-1",
     "locked": true,
     "schema_version": 1,
     "solution": false
    }
   },
   "source": [
    "# Part 1: General Coding (16 points)\n",
    "\n",
    "For **Part 1**, you will be asked to use the dictionary below - called <code>**friends**</code> - which represents a small social network graph extracted from **10** characters of the _Friends_ TV series. Each entry of this dictionary contains the name of the character as key and a list of tuples as value; each tuple, in turn, is composed of two items: the name of a character and a float in the range **(0, 1]** which measures the strength of this relationship.<br /> \n",
    "Please, execute the cell right below and answer the following questions."
   ]
  },
  {
   "cell_type": "code",
   "execution_count": null,
   "metadata": {
    "nbgrader": {
     "grade": false,
     "grade_id": "part-1-required",
     "locked": true,
     "schema_version": 1,
     "solution": false
    }
   },
   "outputs": [],
   "source": [
    "friends = {\n",
    "    'Rachel Green': [('Ross Geller', 1.0), \n",
    "                     ('Paul Stevens', 0.46),\n",
    "                     ('Chandler Bing', 0.73),\n",
    "                     ('Monica Geller', 0.92),\n",
    "                     ('Phoebe Buffay', 0.94),\n",
    "                     ('Joey Tribbiani', 0.97),\n",
    "                     ('Gunther', 0.01)\n",
    "                    ],\n",
    "    'Monica Geller': [('Ross Geller', 0.85),\n",
    "                      ('Phoebe Buffay', 0.89),\n",
    "                      ('Rachel Green', 0.89),\n",
    "                      ('Chandler Bing', 1.0),\n",
    "                      ('Joey Tribbiani', 0.90),\n",
    "                      ('Janice Hosenstein', 0.07),\n",
    "                      ('Gunther', 0.51),\n",
    "                      ('Ursula Buffay', 0.42),\n",
    "                      ('Paul Stevens', 0.27)\n",
    "                     ],\n",
    "    'Phoebe Buffay': [('Ursula Buffay', 0.01),\n",
    "                      ('Joey Tribbiani', 0.96),\n",
    "                      ('Monica Geller', 0.81),\n",
    "                      ('Rachel Green', 0.88),\n",
    "                      ('Chandler Bing', 0.64),\n",
    "                      ('Ross Geller', 0.83),\n",
    "                      ('Gunther', 0.25)\n",
    "                     ],\n",
    "    'Joey Tribbiani': [('Phoebe Buffay', 0.98),\n",
    "                       ('Chandler Bing', 1.0),\n",
    "                       ('Ross Geller', 0.99),\n",
    "                       ('Rachel Green', 0.97),\n",
    "                       ('Monica Geller', 0.95)\n",
    "                      ],\n",
    "    'Chandler Bing': [('Monica Geller', 1.0),\n",
    "                      ('Joey Tribbiani', 1.0),\n",
    "                      ('Ross Geller', 0.97),\n",
    "                      ('Phoebe Buffay', 0.81),\n",
    "                      ('Rachel Green', 0.68),\n",
    "                      ('Gunther', 0.37),\n",
    "                      ('Janice Hosenstein', 0.16)\n",
    "                     ],\n",
    "    'Ross Geller': [('Monica Geller', 0.95),\n",
    "                    ('Joey Tribbiani', 0.96),\n",
    "                    ('Chandler Bing', 0.96),\n",
    "                    ('Phoebe Buffay', 0.91),\n",
    "                    ('Rachel Green', 1.0),\n",
    "                    ('Paul Stevens', 0.04)],\n",
    "    'Gunther': [('Rachel Green', 1.0)],\n",
    "    'Ursula Buffay': [],\n",
    "    'Janice Hosenstein': [('Chandler Bing', 1.0),\n",
    "                          ('Monica Geller', 0.01),\n",
    "                          ('Joey Tribbiani', 0.32)\n",
    "                         ],\n",
    "    'Paul Stevens': [('Rachel Green', 0.88),\n",
    "                     ('Ross Geller', 0.29),\n",
    "                     ('Monica Geller', 0.57)\n",
    "                    ]\n",
    "}"
   ]
  },
  {
   "cell_type": "markdown",
   "metadata": {
    "nbgrader": {
     "grade": false,
     "grade_id": "exercise-1-1-text",
     "locked": true,
     "schema_version": 1,
     "solution": false
    }
   },
   "source": [
    "## Exercise 1.1 (1 point)\n",
    "\n",
    "Implement the function <code><b>are_friends_with_each_other</b></code>, which takes as input two strings (i.e., two characters) <code><b>u</b></code> and <code><b>v</b></code> and returns <code><b>True</b></code> iff <code><b>u</b></code> is friend of <code><b>v</b></code> and <code><b>v</b></code> is friend of <code><b>u</b></code>.\n",
    "\n",
    "(**NOTE:** In general, friendship relationship may be not symmetric; we suggest to implement an auxiliary function <code><b>is_friend(x, y)</b></code>, which returns <code><b>True</b></code> iff <code><b>x</b></code> appears in the list of <code><b>y</b></code>'s friends, and use it twice...)"
   ]
  },
  {
   "cell_type": "code",
   "execution_count": null,
   "metadata": {
    "nbgrader": {
     "grade": false,
     "grade_id": "exercise-1-1-code",
     "locked": false,
     "schema_version": 1,
     "solution": true
    }
   },
   "outputs": [],
   "source": [
    "def is_friend(x, y):\n",
    "    \"\"\"\n",
    "    Return True iff x appears in the list of y's friends.\n",
    "    \"\"\"\n",
    "    ### BEGIN SOLUTION\n",
    "    return x in set([f[0] for f in friends[y]])\n",
    "    ### END SOLUTION\n",
    "\n",
    "\n",
    "def are_friends_with_each_other(u, v):\n",
    "    \"\"\"\n",
    "    Return True iff u and v are friends with each other.\n",
    "    \"\"\"\n",
    "    ### BEGIN SOLUTION\n",
    "    return is_friend(u, v) and is_friend(v, u)\n",
    "    ### END SOLUTION"
   ]
  },
  {
   "cell_type": "code",
   "execution_count": null,
   "metadata": {
    "nbgrader": {
     "grade": true,
     "grade_id": "exercise-1-1-test",
     "locked": true,
     "points": 1,
     "schema_version": 1,
     "solution": false
    }
   },
   "outputs": [],
   "source": [
    "\"\"\"\n",
    "Test the correctness of the implementation of the `are_friends_with_each_other` function\n",
    "\"\"\"\n",
    "\n",
    "# Tests\n",
    "assert_equal(True, are_friends_with_each_other(\"Rachel Green\", \"Ross Geller\"))\n",
    "assert_equal(False, are_friends_with_each_other(\"Phoebe Buffay\", \"Gunther\"))\n",
    "assert_equal(True, are_friends_with_each_other(\"Monica Geller\", \"Joey Tribbiani\"))\n",
    "### BEGIN HIDDEN TESTS\n",
    "assert_equal(False, are_friends_with_each_other(\"Ursula Buffay\", \"Chandler Bing\"))\n",
    "assert_equal(True, are_friends_with_each_other(\"Gunther\", \"Rachel Green\"))\n",
    "assert_equal(False, are_friends_with_each_other(\"Janice Hosenstein\", \"Paul Stevens\"))\n",
    "### END HIDDEN TESTS"
   ]
  },
  {
   "cell_type": "markdown",
   "metadata": {
    "nbgrader": {
     "grade": false,
     "grade_id": "exercise-1-2-text",
     "locked": true,
     "schema_version": 1,
     "solution": false
    }
   },
   "source": [
    "## Exercise 1.2 (3 points)\n",
    "\n",
    "Implement the function <code><b>add_friend</b></code>, which takes as input two characters <code><b>u</b></code> and <code><b>v</b></code> and updates the social network <code><b>friends</b></code> by adding a new link between <code><b>u</b></code> and <code><b>v</b></code>, i.e., adding <code><b>v</b></code> to the list of <code><b>u</b></code>'s friends using the default <code><b>friend_score</b></code> specified as the function's keyword argument **if and only if** the following condition holds:\n",
    "-  <code><b>u</b></code> exists **and** <code><b>v</b></code> is not already a friend of <code><b>u</b></code>.<br />\n",
    "\n",
    "Otherwise, the function should return <code><b>-1</b></code>.\n",
    "\n",
    "(**SUGGESTION:** You may want to use the auxiliary function <code><b>is_friend(x, y)</b></code> above, if you have implemented it.)"
   ]
  },
  {
   "cell_type": "code",
   "execution_count": null,
   "metadata": {
    "nbgrader": {
     "grade": false,
     "grade_id": "exercise-1-2-code",
     "locked": false,
     "schema_version": 1,
     "solution": true
    }
   },
   "outputs": [],
   "source": [
    "def add_friend(u, v, friend_score=0.5):\n",
    "    \"\"\"\n",
    "    Add the tuple `(v, friend_score)` to the list of u's friends iff u exists and v is not already friend of u, \n",
    "    otherwise return -1.\n",
    "    \"\"\"\n",
    "    ### BEGIN SOLUTION\n",
    "    if u not in friends or is_friend(v, u):\n",
    "        return -1\n",
    "    friends[u].append((v, friend_score))\n",
    "    ### END SOLUTION"
   ]
  },
  {
   "cell_type": "code",
   "execution_count": null,
   "metadata": {
    "nbgrader": {
     "grade": true,
     "grade_id": "exercise-1-2-test",
     "locked": true,
     "points": 3,
     "schema_version": 1,
     "solution": false
    }
   },
   "outputs": [],
   "source": [
    "\"\"\"\n",
    "Test the correctness of the implementation of the `add_friend` function\n",
    "\"\"\"\n",
    "\n",
    "# save the original `friends` social network graph\n",
    "old_friends = copy.deepcopy(friends)\n",
    "\n",
    "# Tests\n",
    "add_friend(\"Ursula Buffay\", \"Ugly Naked Guy\")\n",
    "assert_equal(friends[\"Ursula Buffay\"], [(\"Ugly Naked Guy\", 0.5)])\n",
    "assert_equal(-1, add_friend(\"Ted Mosby\", \"Ross Geller\"))\n",
    "assert_equal(-1, add_friend(\"Ursula Buffay\", \"Ugly Naked Guy\"))\n",
    "### BEGIN HIDDEN TESTS\n",
    "add_friend(\"Gunther\", \"Monica Geller\")\n",
    "assert_equal(friends[\"Gunther\"], [('Rachel Green', 1.0), ('Monica Geller', 0.5)])\n",
    "assert_equal(-1, add_friend(\"Barney Stinson\", \"Marshall Eriksen\"))\n",
    "assert_equal(-1, add_friend(\"Ross Geller\", \"Joey Tribbiani\"))\n",
    "### END HIDDEN TESTS\n",
    "\n",
    "# revert to the original `friends` social network graph\n",
    "friends = old_friends"
   ]
  },
  {
   "cell_type": "markdown",
   "metadata": {
    "nbgrader": {
     "grade": false,
     "grade_id": "exercise-1-3-text",
     "locked": true,
     "schema_version": 1,
     "solution": false
    }
   },
   "source": [
    "## Exercise 1.3 (5 points)\n",
    "\n",
    "Implement the function <code>**node_degree_distribution**</code>, which takes as input an array of integers <code><b>degrees</b></code> (initialized by default to $[0, 1, \\ldots, 9]$), and returns the node (**out-**)degree distribution computed from the graph represented by <code><b>friends</b></code>. Such a distribution is an array $d$ of the same length of <code><b>degrees</b></code>, and each component $k$ is defined as follows:\n",
    "$$\n",
    "d[k] = \\frac{n_k}{N}\n",
    "$$\n",
    "where $n_k = $ number of nodes with out-degree = $k$, and $N$ is the total number of nodes of the graph.<br />\n",
    "\n",
    "(**NOTE:** The out-degree of a node is the number of outbound links from that node. We suggest to implement the auxiliary function <code><b>node_degree_counts</b></code> below, which is responsible for populating a dictionary containing the number of nodes with a specific out-degree.)"
   ]
  },
  {
   "cell_type": "code",
   "execution_count": null,
   "metadata": {
    "nbgrader": {
     "grade": false,
     "grade_id": "exercise-1-3-code",
     "locked": false,
     "schema_version": 1,
     "solution": true
    }
   },
   "outputs": [],
   "source": [
    "def node_degree_counts():\n",
    "    \"\"\"\n",
    "    Return a dictionary whose keys are out-degrees and whose values are the number of nodes \n",
    "    having such an out-degree value.\n",
    "    \"\"\"\n",
    "    node_degree_counts = {} # This is the dictionary to populate and return\n",
    "    ### BEGIN SOLUTION\n",
    "    for u in friends:\n",
    "        node_degree_counts[len(friends[u])] = node_degree_counts.setdefault(len(friends[u]), 0) + 1\n",
    "    ### END SOLUTION\n",
    "    return node_degree_counts  \n",
    "    \n",
    "def node_degree_distribution(degrees=np.arange(10)):\n",
    "    \"\"\"\n",
    "    Return the distribution of node's out-degree.\n",
    "    \"\"\"\n",
    "    ### BEGIN SOLUTION\n",
    "    N = len(friends.keys())\n",
    "    node_degrees = node_degree_counts()\n",
    "\n",
    "    return np.array([node_degrees[k] / N if k in node_degrees else 0 for k in degrees])\n",
    "    ### END SOLUTION"
   ]
  },
  {
   "cell_type": "code",
   "execution_count": null,
   "metadata": {
    "nbgrader": {
     "grade": true,
     "grade_id": "cell-1-3-test",
     "locked": true,
     "points": 5,
     "schema_version": 1,
     "solution": false
    }
   },
   "outputs": [],
   "source": [
    "\"\"\"\n",
    "Test the correctness of the implementation of the `node_degree_distribution` function\n",
    "\"\"\"\n",
    "\n",
    "# Tests\n",
    "assert_equal(True, np.abs(node_degree_distribution()[0] - 0.1) < EPSILON)\n",
    "assert_equal(10, len(node_degree_distribution()))\n",
    "assert_equal(0, node_degree_distribution()[2]) \n",
    "### BEGIN HIDDEN TESTS\n",
    "assert_equal(7, np.argmax(node_degree_distribution()))\n",
    "assert_equal(True, np.abs(node_degree_distribution()[3] - 0.2) < EPSILON)\n",
    "assert_equal(True, np.abs(np.sum(node_degree_distribution()) - 1.0) < EPSILON)\n",
    "assert_equal(0, node_degree_distribution()[-2])\n",
    "### END HIDDEN TESTS"
   ]
  },
  {
   "cell_type": "markdown",
   "metadata": {
    "nbgrader": {
     "grade": false,
     "grade_id": "exercise-1-4-text",
     "locked": true,
     "schema_version": 1,
     "solution": false
    }
   },
   "source": [
    "## Exercise 1.4 (7 points)\n",
    "\n",
    "In this exercise, you are asked to implement the function <code><b>filter_friends</b></code>, which takes as input the name of a character <code><b>f</b></code> and a float value <code><b>min_prob_score</b></code> representing a _threshold_. The function assumes you will be working with a variant of the original <code><b>friends</b></code> dictionary given at the beginning; more specifically, you will be asked to firstly transform <code><b>friends</b></code> into another dictionary by implementing the function <code><b>markovian_friends</b></code> below. Such a function, transforms the original dictionary in such a way that original friendship scores are considered as probability scores (i.e., a probability distribution of the original friendship scores).<br />\n",
    "The <code><b>filter_friends</b></code> function will return a sub-list of <code><b>f</b></code>'s friends containing only those characters whose probability score is **greater than or equal to** the value specified by <code><b>min_prob_score</b></code>. Finally, the sub-list must be sorted by friendship score in **non-ascending order** (i.e., from the largest to the smallest) and, within that, by lexicographical order in **non-descending order**."
   ]
  },
  {
   "cell_type": "code",
   "execution_count": null,
   "metadata": {
    "nbgrader": {
     "grade": false,
     "grade_id": "exercise-1-4-code",
     "locked": false,
     "schema_version": 1,
     "solution": true
    }
   },
   "outputs": [],
   "source": [
    "def markovian_friends():\n",
    "    \"\"\"\n",
    "    Return a new dictionary representing the `friends` graph, where friendship scores are considered as probabilities.\n",
    "    In other words, `markovian_friends[u] = [(v, P_uv), (w, P_uw), ..., (z, P_uz)]`, where:\n",
    "    P_ui = the probability of reaching i from u (i.e., the normalized friendship score between u and i).\n",
    "    \"\"\"\n",
    "    markovian_friends = {} # This is the data structure you have to populate and return for solving this exercise\n",
    "    ### BEGIN SOLUTION\n",
    "    for f in friends:\n",
    "        tot_friendship_score_f = np.sum([u[1] for u in friends[f]])\n",
    "        markovian_friends[f] = [(u[0], u[1]/tot_friendship_score_f) for u in friends[f]]\n",
    "    ### END SOLUTION\n",
    "    return markovian_friends\n",
    "\n",
    "def filter_friends(f, min_prob_score):\n",
    "    \"\"\"\n",
    "    Return a sub-list of f's friends whose normalized friendship score is greater than or equal to the value\n",
    "    indicated by `min_prob_score`. Moreover, such a sub-list must be sorted by friendship score in non-ascending order \n",
    "    (i.e., from the largest to the smallest) and, within that, by lexicographical order in non-descending order\n",
    "    (NOTE: This function must firstly turn the original `friends` graph into markovian friends using the function above).\n",
    "    \"\"\"\n",
    "    ### BEGIN SOLUTION\n",
    "    mfs = markovian_friends()\n",
    "    \n",
    "    return sorted(sorted([mf for mf in mfs[f] if mf[1] >= min_prob_score], \n",
    "                         key=lambda x:x[0]), \n",
    "                  key=lambda x:x[1], \n",
    "                  reverse=True)\n",
    "    ### END SOLUTION"
   ]
  },
  {
   "cell_type": "code",
   "execution_count": null,
   "metadata": {
    "nbgrader": {
     "grade": true,
     "grade_id": "exercise-1-4-test",
     "locked": true,
     "points": 7,
     "schema_version": 1,
     "solution": false
    }
   },
   "outputs": [],
   "source": [
    "\"\"\"\n",
    "Test the correctness of the implementation of the `filter_friends` function\n",
    "\"\"\"\n",
    "\n",
    "assert_equal(\"Chandler Bing\", filter_friends(\"Joey Tribbiani\", 0.2)[0][0])\n",
    "assert_equal(3, len(filter_friends(\"Joey Tribbiani\", 0.2)))\n",
    "assert_equal(True, np.abs(filter_friends(\"Monica Geller\", 0.1)[2][1] - 0.153448275862069) < EPSILON)\n",
    "assert_equal(\"Monica Geller\", filter_friends(\"Paul Stevens\", 0.3)[1][0])\n",
    "### BEGIN HIDDEN TESTS\n",
    "assert_equal(2, len(filter_friends(\"Paul Stevens\", 0.3)))\n",
    "assert_equal(True, np.abs(filter_friends(\"Paul Stevens\", 0.5)[0][1] - 0.5057471264367817) < EPSILON)\n",
    "assert_equal([], filter_friends(\"Ursula Buffay\", 0.0))\n",
    "assert_equal([('Joey Tribbiani', 0.2191780821917808), \n",
    "              ('Rachel Green', 0.20091324200913244), \n",
    "              ('Ross Geller', 0.18949771689497716), \n",
    "              ('Monica Geller', 0.18493150684931509), \n",
    "              ('Chandler Bing', 0.14611872146118723), \n",
    "              ('Gunther', 0.05707762557077626), \n",
    "              ('Ursula Buffay', 0.0022831050228310505)], filter_friends(\"Phoebe Buffay\", 0.0))\n",
    "assert_equal([], filter_friends(\"Chandler Bing\", 0.25))\n",
    "### END HIDDEN TESTS"
   ]
  },
  {
   "cell_type": "markdown",
   "metadata": {
    "nbgrader": {
     "grade": false,
     "grade_id": "part-2",
     "locked": true,
     "schema_version": 1,
     "solution": false
    }
   },
   "source": [
    "# Part 2: Data Science (16 points)\n",
    "\n",
    "In this part, you will be working with the dataset file <code>**dataset.csv**</code>. For a complete description of this data source, please refer to the <code>**README.txt**</code> file included in the archive.\n",
    "In a nutshell, this dataset contains **1781** unique (anonymised) URLs, along with a set of **18 features** and a **binary class label** (<code>**TYPE**</code>), which indicates whether the corresponding URL is malicious (<b>1</b>) or not (<b>0</b>).<br />\n",
    "The cell below is responsible for correctly loading the dataset from the <code>**dataset.csv**</code> file. Once this is executed, you can start answering the questions below."
   ]
  },
  {
   "cell_type": "code",
   "execution_count": null,
   "metadata": {
    "nbgrader": {
     "grade": false,
     "grade_id": "part-2-required",
     "locked": true,
     "schema_version": 1,
     "solution": false
    },
    "scrolled": false
   },
   "outputs": [],
   "source": [
    "# Load the dataset stored at `DATASET_FILE` using \",\" as field separator and '?' to detect NAs\n",
    "\n",
    "data = pd.read_csv(DATASET_FILE, \n",
    "                   sep=',',\n",
    "                   na_values='?')\n",
    "\n",
    "print(\"Loaded `websites` dataset into a dataframe of size ({} x {})\".format(data.shape[0], data.shape[1]))\n",
    "\n",
    "data.head()"
   ]
  },
  {
   "cell_type": "markdown",
   "metadata": {
    "nbgrader": {
     "grade": false,
     "grade_id": "exercise-2-1-text",
     "locked": true,
     "schema_version": 1,
     "solution": false
    }
   },
   "source": [
    "## Exercise 2.1 (1 point)\n",
    "\n",
    "Implement the function <code>**get_median_url_length**</code> below. This takes as input a <code>**pandas.DataFrame**</code> object, and returns the median url length (i.e., <code><b>URL_LENGTH</b></code> field) in the dataset."
   ]
  },
  {
   "cell_type": "code",
   "execution_count": null,
   "metadata": {
    "nbgrader": {
     "grade": false,
     "grade_id": "exercise-2-1-code",
     "locked": false,
     "schema_version": 1,
     "solution": true
    }
   },
   "outputs": [],
   "source": [
    "def get_median_url_length(data):\n",
    "    \"\"\"\n",
    "    Return the median url length (i.e., `URL_LENGTH` field) computed across the dataset.\n",
    "    \"\"\"\n",
    "    ### BEGIN SOLUTION\n",
    "    return data.URL_LENGTH.median()\n",
    "    ### END SOLUTION"
   ]
  },
  {
   "cell_type": "code",
   "execution_count": null,
   "metadata": {
    "nbgrader": {
     "grade": true,
     "grade_id": "exercise-2-1-test",
     "locked": true,
     "points": 1,
     "schema_version": 1,
     "solution": false
    }
   },
   "outputs": [],
   "source": [
    "\"\"\"\n",
    "Test the correctness of the implementation of the `get_median_url_length` function\n",
    "\"\"\"\n",
    "\n",
    "assert_equal(True, get_median_url_length(data) < 100)\n",
    "assert_equal(True, get_median_url_length(data) > 2)\n",
    "### BEGIN HIDDEN TESTS\n",
    "assert_equal(49, get_median_url_length(data))\n",
    "### END HIDDEN TESTS"
   ]
  },
  {
   "cell_type": "markdown",
   "metadata": {
    "nbgrader": {
     "grade": false,
     "grade_id": "exercise-2-2-text",
     "locked": true,
     "schema_version": 1,
     "solution": false
    }
   },
   "source": [
    "## Exercise 2.2 (3 points)\n",
    "\n",
    "Implement the function <code><b>get_highest_delta_packets</b></code> below. This takes as input a <code>**pandas.DataFrame**</code> object, and returns the record (i.e., the <code>**pandas.Series**</code>) corresponding to the URL with the **highest difference** between the number of packets sent (<code><b>SOURCE_APP_PACKETS</b></code>) and those received (<code><b>REMOTE_APP_PACKETS</b></code>) in the dataset.\n",
    "\n",
    "(**NOTE:** You are expecting to find the 0-based integer index of the record corresponding to the one having the highest difference between the two fields...)"
   ]
  },
  {
   "cell_type": "code",
   "execution_count": null,
   "metadata": {
    "nbgrader": {
     "grade": false,
     "grade_id": "exercise-2-2-code",
     "locked": false,
     "schema_version": 1,
     "solution": true
    }
   },
   "outputs": [],
   "source": [
    "def get_highest_delta_packets(data):\n",
    "    \"\"\"\n",
    "    Return the record corresponding to the URL with the highest difference between \n",
    "    the number of packets sent (SOURCE_APP_PACKETS) and those received (REMOTE_APP_PACKETS) in the dataset.\n",
    "    \"\"\"\n",
    "    ### BEGIN SOLUTION\n",
    "    return data.iloc[(data.SOURCE_APP_PACKETS - data.REMOTE_APP_PACKETS).values.argmax()]\n",
    "    ### END SOLUTION"
   ]
  },
  {
   "cell_type": "code",
   "execution_count": null,
   "metadata": {
    "nbgrader": {
     "grade": true,
     "grade_id": "exercise-2-2-test",
     "locked": true,
     "points": 3,
     "schema_version": 1,
     "solution": false
    }
   },
   "outputs": [],
   "source": [
    "\"\"\"\n",
    "Test the correctness of the implementation of the `get_highest_delta_packets` function\n",
    "\"\"\"\n",
    "\n",
    "# Call the `get_highest_delta_packets` function\n",
    "record = get_highest_delta_packets(data)\n",
    "\n",
    "assert_equal(\"B0_639\", record[\"URL\"])\n",
    "assert_equal(\"iso-8859-1\", record[\"CHARSET\"])\n",
    "assert_equal(0, record[\"TYPE\"])\n",
    "### BEGIN HIDDEN TESTS\n",
    "assert_equal(165, record.name)\n",
    "assert_equal(88, record[\"SOURCE_APP_PACKETS\"])\n",
    "assert_equal(44, record[\"REMOTE_APP_PACKETS\"])\n",
    "assert_equal(\"CA\", record[\"WHOIS_STATEPRO\"])\n",
    "### END HIDDEN TESTS"
   ]
  },
  {
   "cell_type": "markdown",
   "metadata": {
    "nbgrader": {
     "grade": false,
     "grade_id": "exercise-2-3-text",
     "locked": true,
     "schema_version": 1,
     "solution": false
    }
   },
   "source": [
    "## Exercise 2.3 (5 points)\n",
    "\n",
    "Implement the function <code><b>get_countries_with_largest_avg_benign_traffic</b></code> below, which takes as input a <code><b>pandas.DataFrame</b></code> and an integer <code><b>k</b></code>, and returns an **ordered list** of <code><b>k</b></code> elements, where each element of is a tuple containing the name of the country (i.e., the <code><b>WHOIS_COUNTRY</b></code> field) and the **average** of bytes transferred (i.e., the <code><b>APP_BYTES</b></code> field) computed for that country, yet **limited to only benign web traffic** (i.e., <code><b>TYPE=0</b></code>). The final list shall be ordered by such a computed average (non-ascending) and, within that, lexicographically sorted (non-descending).\n",
    "\n",
    "(**SUGGESTION:** In order to answer this question, you will need to compute the average of bytes transferred for each country, which must be set to **0** whenever a country is not involved in _any_ benign traffic.)"
   ]
  },
  {
   "cell_type": "code",
   "execution_count": null,
   "metadata": {
    "nbgrader": {
     "grade": false,
     "grade_id": "exercise-2-3-code",
     "locked": false,
     "schema_version": 1,
     "solution": true
    }
   },
   "outputs": [],
   "source": [
    "def get_countries_with_largest_avg_benign_traffic(data, k):\n",
    "    ### BEGIN SOLUTION\n",
    "    countries = data.groupby(by=[\"WHOIS_COUNTRY\"])\n",
    "    result = []\n",
    "    for country_name, country_group in countries:\n",
    "        avg_benign_traffic = country_group.loc[country_group.TYPE == 0, \"APP_BYTES\"].mean()\n",
    "        if avg_benign_traffic is np.nan:\n",
    "            avg_benign_traffic = 0\n",
    "        result.append((country_name, avg_benign_traffic))\n",
    "\n",
    "    return sorted(sorted(result, key=lambda x:x[0], reverse=False), key=lambda x:x[1], reverse=True)[:k]\n",
    "    ### END SOLUTION"
   ]
  },
  {
   "cell_type": "code",
   "execution_count": null,
   "metadata": {
    "nbgrader": {
     "grade": true,
     "grade_id": "exercise-2-3-test",
     "locked": true,
     "points": 5,
     "schema_version": 1,
     "solution": false
    }
   },
   "outputs": [],
   "source": [
    "\"\"\"\n",
    "Test the correctness of the implementation of the `get_countries_with_largest_avg_benign_traffic` function\n",
    "\"\"\"\n",
    "\n",
    "# Call `get_countries_with_largest_avg_benign_traffic` function\n",
    "largest_avg_benign_traffic = get_countries_with_largest_avg_benign_traffic(data, 15)\n",
    "\n",
    "assert_equal('CA', largest_avg_benign_traffic[0][0])\n",
    "assert_equal('LV', largest_avg_benign_traffic[2][0])\n",
    "assert_equal(True, np.abs(largest_avg_benign_traffic[0][1] - 30184.585365853658) < EPSILON)\n",
    "### BEGIN HIDDEN TESTS\n",
    "assert_equal(15, len(largest_avg_benign_traffic))\n",
    "assert_equal('AU', largest_avg_benign_traffic[-1][0])\n",
    "assert_equal('TH', largest_avg_benign_traffic[-2][0])\n",
    "assert_equal(True, np.abs(largest_avg_benign_traffic[1][1] - 10490.0) < EPSILON)\n",
    "assert_equal(True, np.abs(largest_avg_benign_traffic[8][1] - 1802.1679316888046) < EPSILON)\n",
    "### END HIDDEN TESTS"
   ]
  },
  {
   "cell_type": "markdown",
   "metadata": {
    "nbgrader": {
     "grade": false,
     "grade_id": "exercise-2-4-text",
     "locked": true,
     "schema_version": 1,
     "solution": false
    }
   },
   "source": [
    "## Exercise 2.4 (7 points)\n",
    "\n",
    "This exercise is made of **3** main questions, which you can answer independently to each other."
   ]
  },
  {
   "cell_type": "markdown",
   "metadata": {
    "nbgrader": {
     "grade": false,
     "grade_id": "exercise-2-4-1-text",
     "locked": true,
     "schema_version": 1,
     "solution": false
    }
   },
   "source": [
    "### Question 1 (1 point)\n",
    "\n",
    "Feature <code><b>DIST_REMOTE_TCP_PORT</b></code> represents a categorical variable which can take on <b>66</b> distinct values.\n",
    "Implement the function <code><b>top_k_used_ports</b></code> below, which takes as input an integer <code><b>k</b></code> and returns the list of the <code><b>k</b></code>-most frequently used port numbers.\n",
    "\n",
    "(**NOTE:** To access the 0-based indices of a <code><b>pandas.Series</b></code> object you can use the <code><b>.index</b></code> property associated to that object)."
   ]
  },
  {
   "cell_type": "code",
   "execution_count": null,
   "metadata": {
    "nbgrader": {
     "grade": false,
     "grade_id": "exercise-2-4-1-code",
     "locked": false,
     "schema_version": 1,
     "solution": true
    }
   },
   "outputs": [],
   "source": [
    "def top_k_used_ports(k):\n",
    "    ### BEGIN SOLUTION\n",
    "    return data.DIST_REMOTE_TCP_PORT.value_counts().index[:k]\n",
    "    ### END SOLUTION"
   ]
  },
  {
   "cell_type": "code",
   "execution_count": null,
   "metadata": {
    "nbgrader": {
     "grade": true,
     "grade_id": "exercise-2-4-1-test",
     "locked": true,
     "points": 1,
     "schema_version": 1,
     "solution": false
    }
   },
   "outputs": [],
   "source": [
    "\"\"\"\n",
    "Test the correctness of the `top_k_used_ports`\n",
    "\"\"\"\n",
    "\n",
    "assert_equal(0, top_k_used_ports(10)[0])\n",
    "assert_equal(3, top_k_used_ports(10)[1])\n",
    "assert_equal(15, top_k_used_ports(20)[-1])\n",
    "### BEGIN HIDDEN TESTS\n",
    "assert_equal(1, top_k_used_ports(15)[2])\n",
    "assert_equal(4, top_k_used_ports(5)[-1])\n",
    "assert_equal(708, top_k_used_ports(100)[-1])\n",
    "assert_equal(66, len(top_k_used_ports(100)))\n",
    "### END HIDDEN TESTS"
   ]
  },
  {
   "cell_type": "markdown",
   "metadata": {
    "nbgrader": {
     "grade": false,
     "grade_id": "exercise-2-4-2-text",
     "locked": true,
     "schema_version": 1,
     "solution": false
    }
   },
   "source": [
    "### Question 2 (3 points)\n",
    "\n",
    "Assign the correct values to the three variables below, according to the following requests.\n",
    "\n",
    "-  <code><b>nan_record_ids</b></code> should contain the index of the records of the dataframe whose values of <code><b>CONTENT_LENGTH</b></code> is <code><b>NA</b></code>;\n",
    "\n",
    "-  <code><b>nan_ratio</b></code> should contain the proportion of records (out of all records) of the dataframe whose values of <code><b>CONTENT_LENGTH</b></code> is <code><b>NA</b></code>;\n",
    "\n",
    "-  <code><b>data_cpy</b></code> is a copy of the original dataframe, where where <code><b>NA</b></code> values of <code><b>CONTENT_LENGTH</b></code> will be replaced with the mean calculated over non-<code><b>NA</b></code> values."
   ]
  },
  {
   "cell_type": "code",
   "execution_count": null,
   "metadata": {
    "nbgrader": {
     "grade": false,
     "grade_id": "exercise-2-4-2-code",
     "locked": false,
     "schema_version": 1,
     "solution": true
    }
   },
   "outputs": [],
   "source": [
    "nan_record_ids = None # assign this to the index of records whose values of `CONTENT_LENGTH` is NA\n",
    "nan_ratio = None # assign this to the ratio of NA values of `CONTENT_LENGTH`\n",
    "data_cpy = data.copy() # copy of the original dataframe, where NA values of `CONTENT_LENGTH` will be replaced with the mean\n",
    "\n",
    "### BEGIN SOLUTION\n",
    "nan_record_ids = data[data.CONTENT_LENGTH.isna()].index.values\n",
    "nan_ratio = data.CONTENT_LENGTH.isna().sum() / data.shape[0]\n",
    "data_cpy.CONTENT_LENGTH = data.CONTENT_LENGTH.fillna(data.CONTENT_LENGTH.mean())\n",
    "### END SOLUTION"
   ]
  },
  {
   "cell_type": "code",
   "execution_count": null,
   "metadata": {
    "nbgrader": {
     "grade": true,
     "grade_id": "exercise-2-4-2-test",
     "locked": true,
     "points": 3,
     "schema_version": 1,
     "solution": false
    }
   },
   "outputs": [],
   "source": [
    "\"\"\"\n",
    "Test the correctness of `nan_ratio`, `nan_record_ids`, and `data_cpy`\n",
    "\"\"\"\n",
    "\n",
    "assert_equal(False, (nan_ratio is None))\n",
    "assert_equal(False, (data_cpy is None))\n",
    "assert_equal(812, len(nan_record_ids))\n",
    "### BEGIN HIDDEN TESTS\n",
    "assert_equal(True, np.abs(nan_ratio - 0.45592363840539024) < EPSILON)\n",
    "assert_equal(5, nan_record_ids[0])\n",
    "assert_equal(8, nan_record_ids[1])\n",
    "assert_equal(1779, nan_record_ids[-1])\n",
    "assert_equal(True, np.all(np.abs(data_cpy.loc[nan_record_ids, \"CONTENT_LENGTH\"] - 11726.927760577915) < EPSILON))\n",
    "### END HIDDEN TESTS"
   ]
  },
  {
   "cell_type": "markdown",
   "metadata": {
    "nbgrader": {
     "grade": false,
     "grade_id": "exercise-2-4-3-text",
     "locked": true,
     "schema_version": 1,
     "solution": false
    }
   },
   "source": [
    "### Question 3 (3 points)\n",
    "\n",
    "Plot the regression line of <code><b>NUMBER_SPECIAL_CHARACTERS</b></code> ($x$-axis, independent variable) against <code><b>URL_LENGTH</b></code> ($y$-axis, dependent variable) using <code><b>sns.regplot</b></code> and assign the result of the plot to the variable <code><b>reg_plot</b></code>. \n",
    "\n",
    "In addition to that, assign to the variable <code><b>pearson_r</b></code> the Pearson's correlation coefficient computed between the two random varibles (<code><b>NUMBER_SPECIAL_CHARACTERS</b></code> and <code><b>URL_LENGTH</b></code>). This can be computed by calling the <code><b>pearsonr</b></code> scipy's built-in function, which takes as input the two random variables and returns a **pair**: the first item is the _actual_ Pearson's correlation coefficient, whilst the second item is the $p$-value associated to the computed statistic."
   ]
  },
  {
   "cell_type": "code",
   "execution_count": null,
   "metadata": {
    "nbgrader": {
     "grade": false,
     "grade_id": "exercise-2-4-3-code",
     "locked": false,
     "schema_version": 1,
     "solution": true
    }
   },
   "outputs": [],
   "source": [
    "reg_plot = None # assign this to the outcome of sns.regplot call\n",
    "pearson_r = None # assign this to value of the Pearson's correlation coefficient\n",
    "\n",
    "### BEGIN SOLUTION\n",
    "# Create a Figure containing 1x1 subplots\n",
    "fig, ax = plt.subplots(1, 1, figsize=(8,6))\n",
    "# Regression plot line 'special_attack' vs. 'special_defense'\n",
    "reg_plot = sns.regplot(x=data.NUMBER_SPECIAL_CHARACTERS, y=data.URL_LENGTH, color='#0099cc', ax=ax)\n",
    "pearson_r = pearsonr(data.NUMBER_SPECIAL_CHARACTERS, data.URL_LENGTH)[0]\n",
    "### END SOLUTION"
   ]
  },
  {
   "cell_type": "code",
   "execution_count": null,
   "metadata": {
    "nbgrader": {
     "grade": true,
     "grade_id": "exercise-2-4-3-test",
     "locked": true,
     "points": 3,
     "schema_version": 1,
     "solution": false
    }
   },
   "outputs": [],
   "source": [
    "\"\"\"\n",
    "Test the correctness of `reg_plot` and `pearson_r`\n",
    "\"\"\"\n",
    "\n",
    "assert_equal(False, (reg_plot is None))\n",
    "assert_equal(False, (pearson_r is None))\n",
    "### BEGIN HIDDEN TESTS\n",
    "assert_equal(True, np.abs(pearson_r - 0.9179859625469611) < EPSILON)\n",
    "### END HIDDEN TESTS"
   ]
  }
 ],
 "metadata": {
  "celltoolbar": "Create Assignment",
  "kernelspec": {
   "display_name": "Python 3",
   "language": "python",
   "name": "python3"
  },
  "language_info": {
   "codemirror_mode": {
    "name": "ipython",
    "version": 3
   },
   "file_extension": ".py",
   "mimetype": "text/x-python",
   "name": "python",
   "nbconvert_exporter": "python",
   "pygments_lexer": "ipython3",
   "version": "3.6.8"
  }
 },
 "nbformat": 4,
 "nbformat_minor": 2
}
